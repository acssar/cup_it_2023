{
 "cells": [
  {
   "cell_type": "markdown",
   "id": "5_csHT0suQX8",
   "metadata": {
    "id": "5_csHT0suQX8"
   },
   "source": [
    "# Импортирование библиотек"
   ]
  },
  {
   "cell_type": "code",
   "execution_count": null,
   "id": "bcefb3f1",
   "metadata": {
    "id": "bcefb3f1"
   },
   "outputs": [],
   "source": [
    "import json\n",
    "\n",
    "import numpy as np\n",
    "import pandas as pd\n",
    "\n",
    "import re\n",
    "\n",
    "import copy \n",
    "\n",
    "import nltk\n",
    "#nltk.download('punkt')\n",
    "\n",
    "from nltk.corpus import stopwords\n",
    "#nltk.download('stopwords')\n",
    "#nltk.download('averaged_perceptron_tagger')\n",
    "from nltk.corpus import wordnet\n",
    "#nltk.download('wordnet')\n",
    "from nltk.stem import WordNetLemmatizer\n",
    "\n",
    "\n",
    "import matplotlib.pyplot as plt\n",
    "import seaborn as sns\n"
   ]
  },
  {
   "cell_type": "code",
   "execution_count": null,
   "id": "5S_LAWActXZX",
   "metadata": {
    "id": "5S_LAWActXZX"
   },
   "outputs": [],
   "source": [
    "from google.colab import drive\n",
    "drive.mount('/content/drive')"
   ]
  },
  {
   "cell_type": "markdown",
   "id": "sG16DwZfuVwd",
   "metadata": {
    "id": "sG16DwZfuVwd"
   },
   "source": [
    "# Загрузка данных"
   ]
  },
  {
   "cell_type": "code",
   "execution_count": 3,
   "id": "fcbfde56",
   "metadata": {
    "executionInfo": {
     "elapsed": 5560,
     "status": "ok",
     "timestamp": 1679254992456,
     "user": {
      "displayName": "Юлия Кутняк",
      "userId": "08576535551541913047"
     },
     "user_tz": -180
    },
    "id": "fcbfde56",
    "scrolled": false
   },
   "outputs": [],
   "source": [
    "json_train_file = '/content/drive/MyDrive/Cup IT 2023/ranking_train.jsonl'\n",
    "\n",
    "with open(json_train_file) as json_file:\n",
    "    json_list = list(json_file)\n",
    "\n",
    "train = []\n",
    "for json_str in json_list:\n",
    "    data = json.loads(json_str)\n",
    "    train.append(data)"
   ]
  },
  {
   "cell_type": "code",
   "execution_count": 4,
   "id": "bzwqO8sQBhPW",
   "metadata": {
    "colab": {
     "base_uri": "https://localhost:8080/"
    },
    "executionInfo": {
     "elapsed": 37,
     "status": "ok",
     "timestamp": 1679254992458,
     "user": {
      "displayName": "Юлия Кутняк",
      "userId": "08576535551541913047"
     },
     "user_tz": -180
    },
    "id": "bzwqO8sQBhPW",
    "outputId": "b45788f5-e30c-47f0-d00f-022a9638371c"
   },
   "outputs": [
    {
     "data": {
      "text/plain": [
       "88107"
      ]
     },
     "execution_count": 4,
     "metadata": {},
     "output_type": "execute_result"
    }
   ],
   "source": [
    "len(train)"
   ]
  },
  {
   "cell_type": "code",
   "execution_count": 5,
   "id": "a440f49b",
   "metadata": {
    "colab": {
     "base_uri": "https://localhost:8080/"
    },
    "executionInfo": {
     "elapsed": 35,
     "status": "ok",
     "timestamp": 1679254992460,
     "user": {
      "displayName": "Юлия Кутняк",
      "userId": "08576535551541913047"
     },
     "user_tz": -180
    },
    "id": "a440f49b",
    "outputId": "26778fc7-f769-4c4d-ccf1-438afd3c8179"
   },
   "outputs": [
    {
     "data": {
      "text/plain": [
       "{'text': 'Pay your rent with a Credit or Debit card. No landlord signup required',\n",
       " 'comments': [{'text': 'Most major banks offer a service called &#x27;bill pay&#x27; which does this for free, directly from your checking account. Your bank first tries to pay the receiver electronically if they are in the banks network (most utility or other major companies would likely be in-network), and if they aren&#x27;t in network or if they are just a person and not a company, then the service sends them a physical check in the mail.[1]https:&#x2F;&#x2F;www.bankofamerica.com&#x2F;onlinebanking&#x2F;online-bill-pay....[2]https:&#x2F;&#x2F;www.chase.com&#x2F;online-banking&#x2F;online-bill-pay[3]https:&#x2F;&#x2F;www.wellsfargo.com&#x2F;online-banking&#x2F;bill-pay&#x2F;',\n",
       "   'score': 0},\n",
       "  {'text': 'It costs 3.25%, or $74.25 for the example of $2300. So if you&#x27;re looking to just rack up &quot;reward points&quot;, you&#x27;d be best pumping through a payment processor that takes a smaller cut.$5&#x2F;month for debit is more reasonable, but my bank will mail my rent check for free.',\n",
       "   'score': 1},\n",
       "  {'text': 'As many other comments have pointed out almost everyone with a debit card already has a free bill pay option from their bank.  Thus the only real market for this is paying by credit card.  Spiraling debt? Chargebacks? This is going to end badly.',\n",
       "   'score': 2},\n",
       "  {'text': 'My apartment building uses Yapstone&#x27;s RentPayment.com, which charges me a flat $24.95 fee to use my credit card. I wonder what they&#x27;re doing to get around processor fees that RadPad isn&#x27;t.',\n",
       "   'score': 3},\n",
       "  {'text': 'Video seems in poor taste.', 'score': 4}]}"
      ]
     },
     "execution_count": 5,
     "metadata": {},
     "output_type": "execute_result"
    }
   ],
   "source": [
    "train[88106]"
   ]
  },
  {
   "cell_type": "markdown",
   "id": "h0evy8zJPAQc",
   "metadata": {
    "id": "h0evy8zJPAQc"
   },
   "source": [
    "# Предобработка данных"
   ]
  },
  {
   "cell_type": "markdown",
   "id": "IM5iY11zkH-s",
   "metadata": {
    "id": "IM5iY11zkH-s"
   },
   "source": [
    "## Длина комментария"
   ]
  },
  {
   "cell_type": "code",
   "execution_count": 6,
   "id": "4uQpM65VkrxF",
   "metadata": {
    "executionInfo": {
     "elapsed": 3771,
     "status": "ok",
     "timestamp": 1679255003807,
     "user": {
      "displayName": "Юлия Кутняк",
      "userId": "08576535551541913047"
     },
     "user_tz": -180
    },
    "id": "4uQpM65VkrxF"
   },
   "outputs": [],
   "source": [
    "train_df = []\n",
    "num_posts = 0\n",
    "\n",
    "for post in train:\n",
    "    num_comments = 0\n",
    "    num_posts += 1\n",
    "    for comment in post['comments']:\n",
    "        result = []\n",
    "        result.append(num_posts)\n",
    "        num_comments += 1\n",
    "        result.append(num_comments)\n",
    "        result.append(comment['score'])\n",
    "        result.append(len(comment['text']))\n",
    "        result.append(len(comment['text'].split(' ')))\n",
    "        train_df.append(result)"
   ]
  },
  {
   "cell_type": "code",
   "execution_count": 7,
   "id": "_Xkin0Aikrpb",
   "metadata": {
    "colab": {
     "base_uri": "https://localhost:8080/",
     "height": 0
    },
    "executionInfo": {
     "elapsed": 648,
     "status": "ok",
     "timestamp": 1679255004450,
     "user": {
      "displayName": "Юлия Кутняк",
      "userId": "08576535551541913047"
     },
     "user_tz": -180
    },
    "id": "_Xkin0Aikrpb",
    "outputId": "b70b0e30-c01c-4689-9a0b-e5d51721f1a7"
   },
   "outputs": [
    {
     "data": {
      "text/html": [
       "\n",
       "  <div id=\"df-d8599bfc-9b1e-4a37-ab41-2ffb84dd93dc\">\n",
       "    <div class=\"colab-df-container\">\n",
       "      <div>\n",
       "<style scoped>\n",
       "    .dataframe tbody tr th:only-of-type {\n",
       "        vertical-align: middle;\n",
       "    }\n",
       "\n",
       "    .dataframe tbody tr th {\n",
       "        vertical-align: top;\n",
       "    }\n",
       "\n",
       "    .dataframe thead th {\n",
       "        text-align: right;\n",
       "    }\n",
       "</style>\n",
       "<table border=\"1\" class=\"dataframe\">\n",
       "  <thead>\n",
       "    <tr style=\"text-align: right;\">\n",
       "      <th></th>\n",
       "      <th>post_num</th>\n",
       "      <th>comment_num</th>\n",
       "      <th>comment_score</th>\n",
       "      <th>symbols</th>\n",
       "      <th>words</th>\n",
       "    </tr>\n",
       "  </thead>\n",
       "  <tbody>\n",
       "    <tr>\n",
       "      <th>25015</th>\n",
       "      <td>5004</td>\n",
       "      <td>1</td>\n",
       "      <td>0</td>\n",
       "      <td>4840</td>\n",
       "      <td>787</td>\n",
       "    </tr>\n",
       "    <tr>\n",
       "      <th>25016</th>\n",
       "      <td>5004</td>\n",
       "      <td>2</td>\n",
       "      <td>1</td>\n",
       "      <td>1561</td>\n",
       "      <td>267</td>\n",
       "    </tr>\n",
       "    <tr>\n",
       "      <th>25017</th>\n",
       "      <td>5004</td>\n",
       "      <td>3</td>\n",
       "      <td>2</td>\n",
       "      <td>845</td>\n",
       "      <td>147</td>\n",
       "    </tr>\n",
       "    <tr>\n",
       "      <th>25018</th>\n",
       "      <td>5004</td>\n",
       "      <td>4</td>\n",
       "      <td>3</td>\n",
       "      <td>732</td>\n",
       "      <td>118</td>\n",
       "    </tr>\n",
       "    <tr>\n",
       "      <th>25019</th>\n",
       "      <td>5004</td>\n",
       "      <td>5</td>\n",
       "      <td>4</td>\n",
       "      <td>516</td>\n",
       "      <td>95</td>\n",
       "    </tr>\n",
       "    <tr>\n",
       "      <th>25020</th>\n",
       "      <td>5005</td>\n",
       "      <td>1</td>\n",
       "      <td>0</td>\n",
       "      <td>814</td>\n",
       "      <td>151</td>\n",
       "    </tr>\n",
       "    <tr>\n",
       "      <th>25021</th>\n",
       "      <td>5005</td>\n",
       "      <td>2</td>\n",
       "      <td>1</td>\n",
       "      <td>1486</td>\n",
       "      <td>248</td>\n",
       "    </tr>\n",
       "    <tr>\n",
       "      <th>25022</th>\n",
       "      <td>5005</td>\n",
       "      <td>3</td>\n",
       "      <td>2</td>\n",
       "      <td>124</td>\n",
       "      <td>23</td>\n",
       "    </tr>\n",
       "  </tbody>\n",
       "</table>\n",
       "</div>\n",
       "      <button class=\"colab-df-convert\" onclick=\"convertToInteractive('df-d8599bfc-9b1e-4a37-ab41-2ffb84dd93dc')\"\n",
       "              title=\"Convert this dataframe to an interactive table.\"\n",
       "              style=\"display:none;\">\n",
       "        \n",
       "  <svg xmlns=\"http://www.w3.org/2000/svg\" height=\"24px\"viewBox=\"0 0 24 24\"\n",
       "       width=\"24px\">\n",
       "    <path d=\"M0 0h24v24H0V0z\" fill=\"none\"/>\n",
       "    <path d=\"M18.56 5.44l.94 2.06.94-2.06 2.06-.94-2.06-.94-.94-2.06-.94 2.06-2.06.94zm-11 1L8.5 8.5l.94-2.06 2.06-.94-2.06-.94L8.5 2.5l-.94 2.06-2.06.94zm10 10l.94 2.06.94-2.06 2.06-.94-2.06-.94-.94-2.06-.94 2.06-2.06.94z\"/><path d=\"M17.41 7.96l-1.37-1.37c-.4-.4-.92-.59-1.43-.59-.52 0-1.04.2-1.43.59L10.3 9.45l-7.72 7.72c-.78.78-.78 2.05 0 2.83L4 21.41c.39.39.9.59 1.41.59.51 0 1.02-.2 1.41-.59l7.78-7.78 2.81-2.81c.8-.78.8-2.07 0-2.86zM5.41 20L4 18.59l7.72-7.72 1.47 1.35L5.41 20z\"/>\n",
       "  </svg>\n",
       "      </button>\n",
       "      \n",
       "  <style>\n",
       "    .colab-df-container {\n",
       "      display:flex;\n",
       "      flex-wrap:wrap;\n",
       "      gap: 12px;\n",
       "    }\n",
       "\n",
       "    .colab-df-convert {\n",
       "      background-color: #E8F0FE;\n",
       "      border: none;\n",
       "      border-radius: 50%;\n",
       "      cursor: pointer;\n",
       "      display: none;\n",
       "      fill: #1967D2;\n",
       "      height: 32px;\n",
       "      padding: 0 0 0 0;\n",
       "      width: 32px;\n",
       "    }\n",
       "\n",
       "    .colab-df-convert:hover {\n",
       "      background-color: #E2EBFA;\n",
       "      box-shadow: 0px 1px 2px rgba(60, 64, 67, 0.3), 0px 1px 3px 1px rgba(60, 64, 67, 0.15);\n",
       "      fill: #174EA6;\n",
       "    }\n",
       "\n",
       "    [theme=dark] .colab-df-convert {\n",
       "      background-color: #3B4455;\n",
       "      fill: #D2E3FC;\n",
       "    }\n",
       "\n",
       "    [theme=dark] .colab-df-convert:hover {\n",
       "      background-color: #434B5C;\n",
       "      box-shadow: 0px 1px 3px 1px rgba(0, 0, 0, 0.15);\n",
       "      filter: drop-shadow(0px 1px 2px rgba(0, 0, 0, 0.3));\n",
       "      fill: #FFFFFF;\n",
       "    }\n",
       "  </style>\n",
       "\n",
       "      <script>\n",
       "        const buttonEl =\n",
       "          document.querySelector('#df-d8599bfc-9b1e-4a37-ab41-2ffb84dd93dc button.colab-df-convert');\n",
       "        buttonEl.style.display =\n",
       "          google.colab.kernel.accessAllowed ? 'block' : 'none';\n",
       "\n",
       "        async function convertToInteractive(key) {\n",
       "          const element = document.querySelector('#df-d8599bfc-9b1e-4a37-ab41-2ffb84dd93dc');\n",
       "          const dataTable =\n",
       "            await google.colab.kernel.invokeFunction('convertToInteractive',\n",
       "                                                     [key], {});\n",
       "          if (!dataTable) return;\n",
       "\n",
       "          const docLinkHtml = 'Like what you see? Visit the ' +\n",
       "            '<a target=\"_blank\" href=https://colab.research.google.com/notebooks/data_table.ipynb>data table notebook</a>'\n",
       "            + ' to learn more about interactive tables.';\n",
       "          element.innerHTML = '';\n",
       "          dataTable['output_type'] = 'display_data';\n",
       "          await google.colab.output.renderOutput(dataTable, element);\n",
       "          const docLink = document.createElement('div');\n",
       "          docLink.innerHTML = docLinkHtml;\n",
       "          element.appendChild(docLink);\n",
       "        }\n",
       "      </script>\n",
       "    </div>\n",
       "  </div>\n",
       "  "
      ],
      "text/plain": [
       "       post_num  comment_num  comment_score  symbols  words\n",
       "25015      5004            1              0     4840    787\n",
       "25016      5004            2              1     1561    267\n",
       "25017      5004            3              2      845    147\n",
       "25018      5004            4              3      732    118\n",
       "25019      5004            5              4      516     95\n",
       "25020      5005            1              0      814    151\n",
       "25021      5005            2              1     1486    248\n",
       "25022      5005            3              2      124     23"
      ]
     },
     "execution_count": 7,
     "metadata": {},
     "output_type": "execute_result"
    }
   ],
   "source": [
    "train_df = pd.DataFrame(train_df, columns = ['post_num', 'comment_num', 'comment_score', 'symbols', 'words'])\n",
    "train_df[25015:25023]"
   ]
  },
  {
   "cell_type": "markdown",
   "id": "163462d9",
   "metadata": {
    "id": "163462d9"
   },
   "source": [
    "## Изменение регистра"
   ]
  },
  {
   "cell_type": "code",
   "execution_count": 10,
   "id": "TVV8CDtPvaUE",
   "metadata": {
    "executionInfo": {
     "elapsed": 306,
     "status": "ok",
     "timestamp": 1679255017728,
     "user": {
      "displayName": "Юлия Кутняк",
      "userId": "08576535551541913047"
     },
     "user_tz": -180
    },
    "id": "TVV8CDtPvaUE"
   },
   "outputs": [],
   "source": [
    "def case_changes(dataset):\n",
    "    for post in dataset:\n",
    "        post['text'] = post['text'].lower()\n",
    "        comments = post['comments']\n",
    "        for comment in comments:\n",
    "            comment['text'] = comment['text'].lower()\n",
    "    return dataset"
   ]
  },
  {
   "cell_type": "code",
   "execution_count": 11,
   "id": "OwlBtXHcu5GA",
   "metadata": {
    "colab": {
     "base_uri": "https://localhost:8080/"
    },
    "executionInfo": {
     "elapsed": 1035,
     "status": "ok",
     "timestamp": 1679255019067,
     "user": {
      "displayName": "Юлия Кутняк",
      "userId": "08576535551541913047"
     },
     "user_tz": -180
    },
    "id": "OwlBtXHcu5GA",
    "outputId": "2261270c-44eb-4d22-ea7d-fab6d7fabe89"
   },
   "outputs": [
    {
     "data": {
      "text/plain": [
       "{'text': 'pay your rent with a credit or debit card. no landlord signup required',\n",
       " 'comments': [{'text': 'most major banks offer a service called &#x27;bill pay&#x27; which does this for free, directly from your checking account. your bank first tries to pay the receiver electronically if they are in the banks network (most utility or other major companies would likely be in-network), and if they aren&#x27;t in network or if they are just a person and not a company, then the service sends them a physical check in the mail.[1]https:&#x2f;&#x2f;www.bankofamerica.com&#x2f;onlinebanking&#x2f;online-bill-pay....[2]https:&#x2f;&#x2f;www.chase.com&#x2f;online-banking&#x2f;online-bill-pay[3]https:&#x2f;&#x2f;www.wellsfargo.com&#x2f;online-banking&#x2f;bill-pay&#x2f;',\n",
       "   'score': 0},\n",
       "  {'text': 'it costs 3.25%, or $74.25 for the example of $2300. so if you&#x27;re looking to just rack up &quot;reward points&quot;, you&#x27;d be best pumping through a payment processor that takes a smaller cut.$5&#x2f;month for debit is more reasonable, but my bank will mail my rent check for free.',\n",
       "   'score': 1},\n",
       "  {'text': 'as many other comments have pointed out almost everyone with a debit card already has a free bill pay option from their bank.  thus the only real market for this is paying by credit card.  spiraling debt? chargebacks? this is going to end badly.',\n",
       "   'score': 2},\n",
       "  {'text': 'my apartment building uses yapstone&#x27;s rentpayment.com, which charges me a flat $24.95 fee to use my credit card. i wonder what they&#x27;re doing to get around processor fees that radpad isn&#x27;t.',\n",
       "   'score': 3},\n",
       "  {'text': 'video seems in poor taste.', 'score': 4}]}"
      ]
     },
     "execution_count": 11,
     "metadata": {},
     "output_type": "execute_result"
    }
   ],
   "source": [
    "train = case_changes(train)\n",
    "train[88106]"
   ]
  },
  {
   "cell_type": "markdown",
   "id": "1bab4d55",
   "metadata": {
    "id": "1bab4d55"
   },
   "source": [
    "## Очистка"
   ]
  },
  {
   "cell_type": "markdown",
   "id": "YyTjGgpFOqlk",
   "metadata": {
    "id": "YyTjGgpFOqlk"
   },
   "source": [
    "### Кодировка"
   ]
  },
  {
   "cell_type": "code",
   "execution_count": 12,
   "id": "OBWREQjSNhaN",
   "metadata": {
    "executionInfo": {
     "elapsed": 10,
     "status": "ok",
     "timestamp": 1679255021936,
     "user": {
      "displayName": "Юлия Кутняк",
      "userId": "08576535551541913047"
     },
     "user_tz": -180
    },
    "id": "OBWREQjSNhaN"
   },
   "outputs": [],
   "source": [
    "def html_symbols(dataset):\n",
    "    \n",
    "    trans_table = {'&#x9;': '\\\\', '&#xA;': '\\n', '&#x21;': '!', '&#x22;': '\\\"', '&#x23;': '#', '&#x24;': '$', \n",
    "                   '&#x25;': '%', '&#x26;': '&', '&#x27;': \"'\", '&#x28;': '(', '&#x29;': ')', '&#x2a;': '*', \n",
    "                   '&#x2b;': '+', '&#x2c;': ',', '&#x2e;': '.', '&#x2f;': '/', '&#x3a;': ':', '&#x3b;': ';', \n",
    "                   '&#x3c;': '<', '&#x3d;': '=', '&#x3e;': '>', '&#x3f;': '\\?', '&#x40;': '@', '&#x5b;': '[', \n",
    "                   '&#x5c;': '\\\\', '&#x5d;': ']', '&#x5e;': '^', '&#x5f;': '_', '&#x60;': '`', '&#x7b;': '{', \n",
    "                   '&#x7c;': '|', '&#x7d;': '}', '&#9;': '\\\\', '&#10;': '\\n', '&#33;': '!', '&#34;': '\\\"',\n",
    "                   '&#35;': '#', '&#36;': '$', '&#37;': '%', '&#38;': '&', '&#39;': \"'\", '&#40;': '(', '&#41;': ')', \n",
    "                   '&#42;': '*', '&#43;': '+', '&#44;': ',', '&#46;': '.', '&#47;': '/', '&#58;': ':', '&#59;': ';', \n",
    "                   '&#60;': '<', '&#61;': '=', '&#62;': '>', '&#63;': '\\?', '&#64;': '@', '&#91;': '[', '&#92;': '\\\\', \n",
    "                   '&#93;': ']', '&#94': '^', '&#95;': '_', '&#96;': '`', '&#123;': '{', '&#124;': '|', '&#125;': '}'}\n",
    "    \n",
    "    reg_ex_symb = r'(&#x\\d+;)|(&#\\d+;)'\n",
    "\n",
    "    keys = list(trans_table.keys())\n",
    "    values = list(trans_table.values())\n",
    "\n",
    "    for post in dataset:\n",
    "        for i in range(len(trans_table)):\n",
    "            if keys[i] in post['text']:\n",
    "                post['text'] = post['text'].replace(keys[i], values[i])\n",
    "        post['text'] = re.sub(reg_ex_symb, ' ', post['text'])\n",
    "        comments = post['comments']\n",
    "        for comment in comments:\n",
    "            for i in range(len(trans_table)):\n",
    "                if keys[i] in comment['text']:\n",
    "                    comment['text'] = comment['text'].replace(keys[i], values[i])\n",
    "            comment['text'] = re.sub(reg_ex_symb, ' ', comment['text'])\n",
    "    \n",
    "    return dataset"
   ]
  },
  {
   "cell_type": "code",
   "execution_count": 13,
   "id": "FoRi2kGn8uHH",
   "metadata": {
    "colab": {
     "base_uri": "https://localhost:8080/"
    },
    "executionInfo": {
     "elapsed": 21460,
     "status": "ok",
     "timestamp": 1679255043389,
     "user": {
      "displayName": "Юлия Кутняк",
      "userId": "08576535551541913047"
     },
     "user_tz": -180
    },
    "id": "FoRi2kGn8uHH",
    "outputId": "d1a7243c-be3b-47ca-cc31-aee442c2fea9"
   },
   "outputs": [
    {
     "data": {
      "text/plain": [
       "{'text': 'pay your rent with a credit or debit card. no landlord signup required',\n",
       " 'comments': [{'text': \"most major banks offer a service called 'bill pay' which does this for free, directly from your checking account. your bank first tries to pay the receiver electronically if they are in the banks network (most utility or other major companies would likely be in-network), and if they aren't in network or if they are just a person and not a company, then the service sends them a physical check in the mail.[1]https://www.bankofamerica.com/onlinebanking/online-bill-pay....[2]https://www.chase.com/online-banking/online-bill-pay[3]https://www.wellsfargo.com/online-banking/bill-pay/\",\n",
       "   'score': 0},\n",
       "  {'text': \"it costs 3.25%, or $74.25 for the example of $2300. so if you're looking to just rack up &quot;reward points&quot;, you'd be best pumping through a payment processor that takes a smaller cut.$5/month for debit is more reasonable, but my bank will mail my rent check for free.\",\n",
       "   'score': 1},\n",
       "  {'text': 'as many other comments have pointed out almost everyone with a debit card already has a free bill pay option from their bank.  thus the only real market for this is paying by credit card.  spiraling debt? chargebacks? this is going to end badly.',\n",
       "   'score': 2},\n",
       "  {'text': \"my apartment building uses yapstone's rentpayment.com, which charges me a flat $24.95 fee to use my credit card. i wonder what they're doing to get around processor fees that radpad isn't.\",\n",
       "   'score': 3},\n",
       "  {'text': 'video seems in poor taste.', 'score': 4}]}"
      ]
     },
     "execution_count": 13,
     "metadata": {},
     "output_type": "execute_result"
    }
   ],
   "source": [
    "train = html_symbols(train)\n",
    "train[88106]"
   ]
  },
  {
   "cell_type": "markdown",
   "id": "jIKtN7ByO0V0",
   "metadata": {
    "id": "jIKtN7ByO0V0"
   },
   "source": [
    "### Ссылки"
   ]
  },
  {
   "cell_type": "markdown",
   "id": "CXQYOjPp3YwN",
   "metadata": {
    "id": "CXQYOjPp3YwN"
   },
   "source": [
    "Проведем неполную замену нежелательных символов и чисел, так как некоторые комментарии могут содержать несколько ссылок "
   ]
  },
  {
   "cell_type": "code",
   "execution_count": 14,
   "id": "cbJStn9xHfdt",
   "metadata": {
    "executionInfo": {
     "elapsed": 37,
     "status": "ok",
     "timestamp": 1679255043390,
     "user": {
      "displayName": "Юлия Кутняк",
      "userId": "08576535551541913047"
     },
     "user_tz": -180
    },
    "id": "cbJStn9xHfdt"
   },
   "outputs": [],
   "source": [
    "def urls(dataset):\n",
    "    #reg_ex = r'(http\\S+)|(www\\S+)|([\\w\\d]+www\\S+)|([\\w\\d]+http\\S+)'\n",
    "    reg_ex_url = r'(http\\S+)|(www\\S+)|([\\w\\d]+www\\S+)|([\\w\\d]+http\\S+)://*[\\S+]'   \n",
    "    for post in dataset:\n",
    "        post['text'] = re.sub(r'(\\[\\d\\])', ' ', post['text'])\n",
    "        post['text'] = re.sub(reg_ex_url, 'URL', post['text'])\n",
    "        comments = post['comments']\n",
    "        for comment in comments:\n",
    "            comment['text'] = re.sub(r'(\\[\\d\\])', ' ', comment['text'])\n",
    "            comment['text'] = re.sub(reg_ex_url, 'URL', comment['text'])\n",
    "    return dataset"
   ]
  },
  {
   "cell_type": "code",
   "execution_count": 15,
   "id": "d1P3CL0YHupX",
   "metadata": {
    "colab": {
     "base_uri": "https://localhost:8080/"
    },
    "executionInfo": {
     "elapsed": 38985,
     "status": "ok",
     "timestamp": 1679255082340,
     "user": {
      "displayName": "Юлия Кутняк",
      "userId": "08576535551541913047"
     },
     "user_tz": -180
    },
    "id": "d1P3CL0YHupX",
    "outputId": "c77728f6-4053-44ee-8601-40cd42728469"
   },
   "outputs": [
    {
     "data": {
      "text/plain": [
       "{'text': 'pay your rent with a credit or debit card. no landlord signup required',\n",
       " 'comments': [{'text': \"most major banks offer a service called 'bill pay' which does this for free, directly from your checking account. your bank first tries to pay the receiver electronically if they are in the banks network (most utility or other major companies would likely be in-network), and if they aren't in network or if they are just a person and not a company, then the service sends them a physical check in the mail. URL URL URL\",\n",
       "   'score': 0},\n",
       "  {'text': \"it costs 3.25%, or $74.25 for the example of $2300. so if you're looking to just rack up &quot;reward points&quot;, you'd be best pumping through a payment processor that takes a smaller cut.$5/month for debit is more reasonable, but my bank will mail my rent check for free.\",\n",
       "   'score': 1},\n",
       "  {'text': 'as many other comments have pointed out almost everyone with a debit card already has a free bill pay option from their bank.  thus the only real market for this is paying by credit card.  spiraling debt? chargebacks? this is going to end badly.',\n",
       "   'score': 2},\n",
       "  {'text': \"my apartment building uses yapstone's rentpayment.com, which charges me a flat $24.95 fee to use my credit card. i wonder what they're doing to get around processor fees that radpad isn't.\",\n",
       "   'score': 3},\n",
       "  {'text': 'video seems in poor taste.', 'score': 4}]}"
      ]
     },
     "execution_count": 15,
     "metadata": {},
     "output_type": "execute_result"
    }
   ],
   "source": [
    "train = urls(train)\n",
    "train[88106]"
   ]
  },
  {
   "cell_type": "code",
   "execution_count": 16,
   "id": "MOtuPo3gPt7h",
   "metadata": {
    "executionInfo": {
     "elapsed": 10,
     "status": "ok",
     "timestamp": 1679255082341,
     "user": {
      "displayName": "Юлия Кутняк",
      "userId": "08576535551541913047"
     },
     "user_tz": -180
    },
    "id": "MOtuPo3gPt7h"
   },
   "outputs": [],
   "source": [
    "train_urls = []\n",
    "train_count_urls = []\n",
    "for post in train:\n",
    "    for comment in post['comments']:\n",
    "        if 'URL' in comment['text']:\n",
    "            train_urls.append(1)\n",
    "            train_count_urls.append(comment['text'].count('URL'))\n",
    "        else:\n",
    "            train_urls.append(0)\n",
    "            train_count_urls.append(0)"
   ]
  },
  {
   "cell_type": "code",
   "execution_count": 17,
   "id": "YtNoYWpwPt5q",
   "metadata": {
    "colab": {
     "base_uri": "https://localhost:8080/",
     "height": 300
    },
    "executionInfo": {
     "elapsed": 389,
     "status": "ok",
     "timestamp": 1679255082723,
     "user": {
      "displayName": "Юлия Кутняк",
      "userId": "08576535551541913047"
     },
     "user_tz": -180
    },
    "id": "YtNoYWpwPt5q",
    "outputId": "77064b4a-00d7-4c9c-fbeb-0486aa3868ba"
   },
   "outputs": [
    {
     "data": {
      "text/html": [
       "\n",
       "  <div id=\"df-e3784c3d-f967-4b01-bf4d-5e6de29943bc\">\n",
       "    <div class=\"colab-df-container\">\n",
       "      <div>\n",
       "<style scoped>\n",
       "    .dataframe tbody tr th:only-of-type {\n",
       "        vertical-align: middle;\n",
       "    }\n",
       "\n",
       "    .dataframe tbody tr th {\n",
       "        vertical-align: top;\n",
       "    }\n",
       "\n",
       "    .dataframe thead th {\n",
       "        text-align: right;\n",
       "    }\n",
       "</style>\n",
       "<table border=\"1\" class=\"dataframe\">\n",
       "  <thead>\n",
       "    <tr style=\"text-align: right;\">\n",
       "      <th></th>\n",
       "      <th>post_num</th>\n",
       "      <th>comment_num</th>\n",
       "      <th>comment_score</th>\n",
       "      <th>symbols</th>\n",
       "      <th>words</th>\n",
       "      <th>url</th>\n",
       "      <th>count_url</th>\n",
       "    </tr>\n",
       "  </thead>\n",
       "  <tbody>\n",
       "    <tr>\n",
       "      <th>25015</th>\n",
       "      <td>5004</td>\n",
       "      <td>1</td>\n",
       "      <td>0</td>\n",
       "      <td>4840</td>\n",
       "      <td>787</td>\n",
       "      <td>1</td>\n",
       "      <td>2</td>\n",
       "    </tr>\n",
       "    <tr>\n",
       "      <th>25016</th>\n",
       "      <td>5004</td>\n",
       "      <td>2</td>\n",
       "      <td>1</td>\n",
       "      <td>1561</td>\n",
       "      <td>267</td>\n",
       "      <td>0</td>\n",
       "      <td>0</td>\n",
       "    </tr>\n",
       "    <tr>\n",
       "      <th>25017</th>\n",
       "      <td>5004</td>\n",
       "      <td>3</td>\n",
       "      <td>2</td>\n",
       "      <td>845</td>\n",
       "      <td>147</td>\n",
       "      <td>0</td>\n",
       "      <td>0</td>\n",
       "    </tr>\n",
       "    <tr>\n",
       "      <th>25018</th>\n",
       "      <td>5004</td>\n",
       "      <td>4</td>\n",
       "      <td>3</td>\n",
       "      <td>732</td>\n",
       "      <td>118</td>\n",
       "      <td>0</td>\n",
       "      <td>0</td>\n",
       "    </tr>\n",
       "    <tr>\n",
       "      <th>25019</th>\n",
       "      <td>5004</td>\n",
       "      <td>5</td>\n",
       "      <td>4</td>\n",
       "      <td>516</td>\n",
       "      <td>95</td>\n",
       "      <td>0</td>\n",
       "      <td>0</td>\n",
       "    </tr>\n",
       "    <tr>\n",
       "      <th>25020</th>\n",
       "      <td>5005</td>\n",
       "      <td>1</td>\n",
       "      <td>0</td>\n",
       "      <td>814</td>\n",
       "      <td>151</td>\n",
       "      <td>0</td>\n",
       "      <td>0</td>\n",
       "    </tr>\n",
       "    <tr>\n",
       "      <th>25021</th>\n",
       "      <td>5005</td>\n",
       "      <td>2</td>\n",
       "      <td>1</td>\n",
       "      <td>1486</td>\n",
       "      <td>248</td>\n",
       "      <td>1</td>\n",
       "      <td>1</td>\n",
       "    </tr>\n",
       "    <tr>\n",
       "      <th>25022</th>\n",
       "      <td>5005</td>\n",
       "      <td>3</td>\n",
       "      <td>2</td>\n",
       "      <td>124</td>\n",
       "      <td>23</td>\n",
       "      <td>0</td>\n",
       "      <td>0</td>\n",
       "    </tr>\n",
       "  </tbody>\n",
       "</table>\n",
       "</div>\n",
       "      <button class=\"colab-df-convert\" onclick=\"convertToInteractive('df-e3784c3d-f967-4b01-bf4d-5e6de29943bc')\"\n",
       "              title=\"Convert this dataframe to an interactive table.\"\n",
       "              style=\"display:none;\">\n",
       "        \n",
       "  <svg xmlns=\"http://www.w3.org/2000/svg\" height=\"24px\"viewBox=\"0 0 24 24\"\n",
       "       width=\"24px\">\n",
       "    <path d=\"M0 0h24v24H0V0z\" fill=\"none\"/>\n",
       "    <path d=\"M18.56 5.44l.94 2.06.94-2.06 2.06-.94-2.06-.94-.94-2.06-.94 2.06-2.06.94zm-11 1L8.5 8.5l.94-2.06 2.06-.94-2.06-.94L8.5 2.5l-.94 2.06-2.06.94zm10 10l.94 2.06.94-2.06 2.06-.94-2.06-.94-.94-2.06-.94 2.06-2.06.94z\"/><path d=\"M17.41 7.96l-1.37-1.37c-.4-.4-.92-.59-1.43-.59-.52 0-1.04.2-1.43.59L10.3 9.45l-7.72 7.72c-.78.78-.78 2.05 0 2.83L4 21.41c.39.39.9.59 1.41.59.51 0 1.02-.2 1.41-.59l7.78-7.78 2.81-2.81c.8-.78.8-2.07 0-2.86zM5.41 20L4 18.59l7.72-7.72 1.47 1.35L5.41 20z\"/>\n",
       "  </svg>\n",
       "      </button>\n",
       "      \n",
       "  <style>\n",
       "    .colab-df-container {\n",
       "      display:flex;\n",
       "      flex-wrap:wrap;\n",
       "      gap: 12px;\n",
       "    }\n",
       "\n",
       "    .colab-df-convert {\n",
       "      background-color: #E8F0FE;\n",
       "      border: none;\n",
       "      border-radius: 50%;\n",
       "      cursor: pointer;\n",
       "      display: none;\n",
       "      fill: #1967D2;\n",
       "      height: 32px;\n",
       "      padding: 0 0 0 0;\n",
       "      width: 32px;\n",
       "    }\n",
       "\n",
       "    .colab-df-convert:hover {\n",
       "      background-color: #E2EBFA;\n",
       "      box-shadow: 0px 1px 2px rgba(60, 64, 67, 0.3), 0px 1px 3px 1px rgba(60, 64, 67, 0.15);\n",
       "      fill: #174EA6;\n",
       "    }\n",
       "\n",
       "    [theme=dark] .colab-df-convert {\n",
       "      background-color: #3B4455;\n",
       "      fill: #D2E3FC;\n",
       "    }\n",
       "\n",
       "    [theme=dark] .colab-df-convert:hover {\n",
       "      background-color: #434B5C;\n",
       "      box-shadow: 0px 1px 3px 1px rgba(0, 0, 0, 0.15);\n",
       "      filter: drop-shadow(0px 1px 2px rgba(0, 0, 0, 0.3));\n",
       "      fill: #FFFFFF;\n",
       "    }\n",
       "  </style>\n",
       "\n",
       "      <script>\n",
       "        const buttonEl =\n",
       "          document.querySelector('#df-e3784c3d-f967-4b01-bf4d-5e6de29943bc button.colab-df-convert');\n",
       "        buttonEl.style.display =\n",
       "          google.colab.kernel.accessAllowed ? 'block' : 'none';\n",
       "\n",
       "        async function convertToInteractive(key) {\n",
       "          const element = document.querySelector('#df-e3784c3d-f967-4b01-bf4d-5e6de29943bc');\n",
       "          const dataTable =\n",
       "            await google.colab.kernel.invokeFunction('convertToInteractive',\n",
       "                                                     [key], {});\n",
       "          if (!dataTable) return;\n",
       "\n",
       "          const docLinkHtml = 'Like what you see? Visit the ' +\n",
       "            '<a target=\"_blank\" href=https://colab.research.google.com/notebooks/data_table.ipynb>data table notebook</a>'\n",
       "            + ' to learn more about interactive tables.';\n",
       "          element.innerHTML = '';\n",
       "          dataTable['output_type'] = 'display_data';\n",
       "          await google.colab.output.renderOutput(dataTable, element);\n",
       "          const docLink = document.createElement('div');\n",
       "          docLink.innerHTML = docLinkHtml;\n",
       "          element.appendChild(docLink);\n",
       "        }\n",
       "      </script>\n",
       "    </div>\n",
       "  </div>\n",
       "  "
      ],
      "text/plain": [
       "       post_num  comment_num  comment_score  symbols  words  url  count_url\n",
       "25015      5004            1              0     4840    787    1          2\n",
       "25016      5004            2              1     1561    267    0          0\n",
       "25017      5004            3              2      845    147    0          0\n",
       "25018      5004            4              3      732    118    0          0\n",
       "25019      5004            5              4      516     95    0          0\n",
       "25020      5005            1              0      814    151    0          0\n",
       "25021      5005            2              1     1486    248    1          1\n",
       "25022      5005            3              2      124     23    0          0"
      ]
     },
     "execution_count": 17,
     "metadata": {},
     "output_type": "execute_result"
    }
   ],
   "source": [
    "train_df['url'] = train_urls\n",
    "train_df['count_url'] = train_count_urls\n",
    "train_df[25015:25023]"
   ]
  },
  {
   "cell_type": "markdown",
   "id": "tqTFp9zrVOUP",
   "metadata": {
    "id": "tqTFp9zrVOUP"
   },
   "source": [
    "Теперь можно удалить все ссылки"
   ]
  },
  {
   "cell_type": "code",
   "execution_count": 18,
   "id": "RJU82WY4Pt05",
   "metadata": {
    "executionInfo": {
     "elapsed": 12,
     "status": "ok",
     "timestamp": 1679255082724,
     "user": {
      "displayName": "Юлия Кутняк",
      "userId": "08576535551541913047"
     },
     "user_tz": -180
    },
    "id": "RJU82WY4Pt05"
   },
   "outputs": [],
   "source": [
    "def del_urls(dataset):\n",
    "    for post in dataset:\n",
    "        post['text'] = post['text'].replace('URL', '')\n",
    "        comments = post['comments']\n",
    "        for comment in comments:\n",
    "            comment['text'] = comment['text'].replace('URL', '')\n",
    "    return dataset"
   ]
  },
  {
   "cell_type": "code",
   "execution_count": 19,
   "id": "9Cni1ux3Ptyh",
   "metadata": {
    "colab": {
     "base_uri": "https://localhost:8080/"
    },
    "executionInfo": {
     "elapsed": 11,
     "status": "ok",
     "timestamp": 1679255082724,
     "user": {
      "displayName": "Юлия Кутняк",
      "userId": "08576535551541913047"
     },
     "user_tz": -180
    },
    "id": "9Cni1ux3Ptyh",
    "outputId": "9a0d2bdb-b907-46da-ac09-34264f172667"
   },
   "outputs": [
    {
     "data": {
      "text/plain": [
       "{'text': 'pay your rent with a credit or debit card. no landlord signup required',\n",
       " 'comments': [{'text': \"most major banks offer a service called 'bill pay' which does this for free, directly from your checking account. your bank first tries to pay the receiver electronically if they are in the banks network (most utility or other major companies would likely be in-network), and if they aren't in network or if they are just a person and not a company, then the service sends them a physical check in the mail.   \",\n",
       "   'score': 0},\n",
       "  {'text': \"it costs 3.25%, or $74.25 for the example of $2300. so if you're looking to just rack up &quot;reward points&quot;, you'd be best pumping through a payment processor that takes a smaller cut.$5/month for debit is more reasonable, but my bank will mail my rent check for free.\",\n",
       "   'score': 1},\n",
       "  {'text': 'as many other comments have pointed out almost everyone with a debit card already has a free bill pay option from their bank.  thus the only real market for this is paying by credit card.  spiraling debt? chargebacks? this is going to end badly.',\n",
       "   'score': 2},\n",
       "  {'text': \"my apartment building uses yapstone's rentpayment.com, which charges me a flat $24.95 fee to use my credit card. i wonder what they're doing to get around processor fees that radpad isn't.\",\n",
       "   'score': 3},\n",
       "  {'text': 'video seems in poor taste.', 'score': 4}]}"
      ]
     },
     "execution_count": 19,
     "metadata": {},
     "output_type": "execute_result"
    }
   ],
   "source": [
    "train = del_urls(train)\n",
    "train[88106]"
   ]
  },
  {
   "cell_type": "markdown",
   "id": "__lOVjmDi5nr",
   "metadata": {
    "id": "__lOVjmDi5nr"
   },
   "source": [
    "### Email"
   ]
  },
  {
   "cell_type": "code",
   "execution_count": 20,
   "id": "HeK7zdeCi5_b",
   "metadata": {
    "executionInfo": {
     "elapsed": 10,
     "status": "ok",
     "timestamp": 1679255082725,
     "user": {
      "displayName": "Юлия Кутняк",
      "userId": "08576535551541913047"
     },
     "user_tz": -180
    },
    "id": "HeK7zdeCi5_b"
   },
   "outputs": [],
   "source": [
    "def emails(dataset):\n",
    "    reg_ex_mail = r'([a-z0-9_.+-]+)@[a-z0-9_.+-]+\\.[a-z0-9_.+-]'\n",
    "        \n",
    "    for post in dataset:\n",
    "        post['text'] = re.sub(reg_ex_mail, 'EMAIL', post['text'])\n",
    "        comments = post['comments']\n",
    "        for comment in comments:\n",
    "            comment['text'] = re.sub(reg_ex_mail, 'EMAIL', comment['text'])\n",
    "    return dataset"
   ]
  },
  {
   "cell_type": "code",
   "execution_count": 21,
   "id": "MQuobjltjwAr",
   "metadata": {
    "executionInfo": {
     "elapsed": 17824,
     "status": "ok",
     "timestamp": 1679255101009,
     "user": {
      "displayName": "Юлия Кутняк",
      "userId": "08576535551541913047"
     },
     "user_tz": -180
    },
    "id": "MQuobjltjwAr"
   },
   "outputs": [],
   "source": [
    "train = emails(train)"
   ]
  },
  {
   "cell_type": "code",
   "execution_count": 22,
   "id": "w1f9LPQLjDqb",
   "metadata": {
    "executionInfo": {
     "elapsed": 40,
     "status": "ok",
     "timestamp": 1679255101011,
     "user": {
      "displayName": "Юлия Кутняк",
      "userId": "08576535551541913047"
     },
     "user_tz": -180
    },
    "id": "w1f9LPQLjDqb"
   },
   "outputs": [],
   "source": [
    "train_emails = []\n",
    "\n",
    "for post in train:\n",
    "    for comment in post['comments']:\n",
    "        if 'EMAIL' in comment['text']:\n",
    "            train_emails.append(1)\n",
    "        else:\n",
    "            train_emails.append(0)"
   ]
  },
  {
   "cell_type": "code",
   "execution_count": 23,
   "id": "hrv4xgB5jF08",
   "metadata": {
    "colab": {
     "base_uri": "https://localhost:8080/"
    },
    "executionInfo": {
     "elapsed": 440,
     "status": "ok",
     "timestamp": 1679255101414,
     "user": {
      "displayName": "Юлия Кутняк",
      "userId": "08576535551541913047"
     },
     "user_tz": -180
    },
    "id": "hrv4xgB5jF08",
    "outputId": "27e809af-f257-48a1-9530-e934ee595270"
   },
   "outputs": [
    {
     "data": {
      "text/plain": [
       "1507"
      ]
     },
     "execution_count": 23,
     "metadata": {},
     "output_type": "execute_result"
    }
   ],
   "source": [
    "train_df['email'] = train_emails\n",
    "sum(train_df['email'])"
   ]
  },
  {
   "cell_type": "code",
   "execution_count": 24,
   "id": "LjIPTeESjH8c",
   "metadata": {
    "executionInfo": {
     "elapsed": 6,
     "status": "ok",
     "timestamp": 1679255101415,
     "user": {
      "displayName": "Юлия Кутняк",
      "userId": "08576535551541913047"
     },
     "user_tz": -180
    },
    "id": "LjIPTeESjH8c"
   },
   "outputs": [],
   "source": [
    "def del_emails(dataset):\n",
    "    for post in dataset:\n",
    "        post['text'] = post['text'].replace('EMAIL', '')\n",
    "        comments = post['comments']\n",
    "        for comment in comments:\n",
    "            comment['text'] = comment['text'].replace('EMAIL', '')\n",
    "    return dataset"
   ]
  },
  {
   "cell_type": "code",
   "execution_count": 25,
   "id": "NdenNDhLzFel",
   "metadata": {
    "executionInfo": {
     "elapsed": 395,
     "status": "ok",
     "timestamp": 1679255101805,
     "user": {
      "displayName": "Юлия Кутняк",
      "userId": "08576535551541913047"
     },
     "user_tz": -180
    },
    "id": "NdenNDhLzFel"
   },
   "outputs": [],
   "source": [
    "train = del_emails(train)"
   ]
  },
  {
   "cell_type": "markdown",
   "id": "jQGX9VRFW9QJ",
   "metadata": {
    "id": "jQGX9VRFW9QJ"
   },
   "source": [
    "### Сокращения\n",
    "Прежде чем удалить все нежелательные символы (например, апострофы или точки), необходимо заменит все сокращения на их полные формы."
   ]
  },
  {
   "cell_type": "code",
   "execution_count": 26,
   "id": "_MpkRR5aXQkY",
   "metadata": {
    "executionInfo": {
     "elapsed": 6,
     "status": "ok",
     "timestamp": 1679255101806,
     "user": {
      "displayName": "Юлия Кутняк",
      "userId": "08576535551541913047"
     },
     "user_tz": -180
    },
    "id": "_MpkRR5aXQkY"
   },
   "outputs": [],
   "source": [
    "def cuts(dataset):\n",
    "    trans_table = {\"'m\": ' am', \"he's\": 'he is', \"she's\": 'she is', \"it's\": 'it is', \"'re\": ' are', \"i's\": 'i was', \"'ll\": ' will', \"this's\": 'this is', \"there's\": 'there is', \n",
    "                   \"can't\": 'cannot', \"won't\": 'will not', \"ain't\": 'am not', \"n't\": ' not', \"let's\": 'let us', \"'d\": ' would', \"'ve\": ' have', \"wontcha\": 'will not you', \n",
    "                   \"ntcha\": ' not you', \"whatcha\": 'what are you', \"gotcha\": 'got you', \"'em\": ' them', 'asap': 'as soon as possible', 'pls': 'please', 'plz': 'please', \n",
    "                   'thx': 'thanks', 'lol': 'laughing out loud', 'rofl': 'rolling on the floor', 'omg': 'oh my god', 'idk': 'i do not know', 'imho': 'in my humble opinion',\n",
    "                   'jk': 'just kidding', \"jic\": 'just in case', 'wdym': 'what do you mean', 'wanna': 'want to', 'gotta': 'got to', 'gonna': 'going to', 'gimme': 'give me', \n",
    "                   'lemme': 'let me', 'oughta': 'ought to', 'a lotta': 'a lot of', 'lotsa': 'lots of', 'kinda': 'kind of', 'sorta': 'sort of', 'cuppa': 'cup of', 'outta': 'out of',\n",
    "                   \"c'mon\": 'come on', 'dunno': 'do not know', 'cuz': 'because', \"'cos\": 'because', \"'coz\": 'because', \"'cause\": 'because', 'shoulda': 'should have'}\n",
    "    \n",
    "    keys = list(trans_table.keys())\n",
    "    values = list(trans_table.values())\n",
    "\n",
    "    for post in dataset:\n",
    "        for i in range(len(trans_table)):\n",
    "            if keys[i] in post['text']:\n",
    "                post['text'] = post['text'].replace(keys[i], values[i])\n",
    "        comments = post['comments']\n",
    "        for comment in comments:\n",
    "            for i in range(len(trans_table)):\n",
    "                if keys[i] in comment['text']:\n",
    "                    comment['text'] = comment['text'].replace(keys[i], values[i])        \n",
    "   \n",
    "    return dataset"
   ]
  },
  {
   "cell_type": "code",
   "execution_count": 27,
   "id": "yylM9S28XQhJ",
   "metadata": {
    "colab": {
     "base_uri": "https://localhost:8080/"
    },
    "executionInfo": {
     "elapsed": 19066,
     "status": "ok",
     "timestamp": 1679255120868,
     "user": {
      "displayName": "Юлия Кутняк",
      "userId": "08576535551541913047"
     },
     "user_tz": -180
    },
    "id": "yylM9S28XQhJ",
    "outputId": "12bbaef3-445a-4d7e-a704-984dc3003123"
   },
   "outputs": [
    {
     "data": {
      "text/plain": [
       "{'text': 'pay your rent with a credit or debit card. no landlord signup required',\n",
       " 'comments': [{'text': \"most major banks offer a service called 'bill pay' which does this for free, directly from your checking account. your bank first tries to pay the receiver electronically if they are in the banks network (most utility or other major companies would likely be in-network), and if they are not in network or if they are just a person and not a company, then the service sends them a physical check in the mail.   \",\n",
       "   'score': 0},\n",
       "  {'text': 'it costs 3.25%, or $74.25 for the example of $2300. so if you are looking to just rack up &quot;reward points&quot;, you would be best pumping through a payment processor that takes a smaller cut.$5/month for debit is more reasonable, but my bank will mail my rent check for free.',\n",
       "   'score': 1},\n",
       "  {'text': 'as many other comments have pointed out almost everyone with a debit card already has a free bill pay option from their bank.  thus the only real market for this is paying by credit card.  spiraling debt? chargebacks? this is going to end badly.',\n",
       "   'score': 2},\n",
       "  {'text': \"my apartment building uses yapstone's rentpayment.com, which charges me a flat $24.95 fee to use my credit card. i wonder what they are doing to get around processor fees that radpad is not.\",\n",
       "   'score': 3},\n",
       "  {'text': 'video seems in poor taste.', 'score': 4}]}"
      ]
     },
     "execution_count": 27,
     "metadata": {},
     "output_type": "execute_result"
    }
   ],
   "source": [
    "train = cuts(train)\n",
    "train[88106]"
   ]
  },
  {
   "cell_type": "markdown",
   "id": "dblBhELlVplC",
   "metadata": {
    "id": "dblBhELlVplC"
   },
   "source": [
    "### Нежелательные символы\n"
   ]
  },
  {
   "cell_type": "code",
   "execution_count": 28,
   "id": "df11a2cb",
   "metadata": {
    "executionInfo": {
     "elapsed": 30,
     "status": "ok",
     "timestamp": 1679255120869,
     "user": {
      "displayName": "Юлия Кутняк",
      "userId": "08576535551541913047"
     },
     "user_tz": -180
    },
    "id": "df11a2cb"
   },
   "outputs": [],
   "source": [
    "def symbols(dataset):\n",
    "    reg_ex = r'[\\\\!\"#$%&\\'()*+,/:;<=>\\?@[\\]^_\\-`{|}\\n\\t]'\n",
    "    reg_ex_point = r'[.]'    \n",
    "    \n",
    "    for post in dataset:\n",
    "        post['text'] = re.sub(reg_ex, ' ', post['text'])\n",
    "        post['text'] = re.sub(reg_ex_point, '', post['text'])\n",
    "        comments = post['comments']\n",
    "        for comment in comments:\n",
    "            comment['text'] = re.sub(reg_ex, ' ', comment['text'])\n",
    "            comment['text'] = re.sub(reg_ex_point, '', comment['text'])\n",
    "    return dataset"
   ]
  },
  {
   "cell_type": "code",
   "execution_count": 29,
   "id": "H6gp75CSJgCL",
   "metadata": {
    "colab": {
     "base_uri": "https://localhost:8080/"
    },
    "executionInfo": {
     "elapsed": 4743,
     "status": "ok",
     "timestamp": 1679255125583,
     "user": {
      "displayName": "Юлия Кутняк",
      "userId": "08576535551541913047"
     },
     "user_tz": -180
    },
    "id": "H6gp75CSJgCL",
    "outputId": "12f13149-8854-47d4-c5b2-279467f191d0"
   },
   "outputs": [
    {
     "data": {
      "text/plain": [
       "{'text': 'pay your rent with a credit or debit card no landlord signup required',\n",
       " 'comments': [{'text': 'most major banks offer a service called  bill pay  which does this for free  directly from your checking account your bank first tries to pay the receiver electronically if they are in the banks network  most utility or other major companies would likely be in network   and if they are not in network or if they are just a person and not a company  then the service sends them a physical check in the mail   ',\n",
       "   'score': 0},\n",
       "  {'text': 'it costs 325   or  7425 for the example of  2300 so if you are looking to just rack up  quot reward points quot   you would be best pumping through a payment processor that takes a smaller cut 5 month for debit is more reasonable  but my bank will mail my rent check for free',\n",
       "   'score': 1},\n",
       "  {'text': 'as many other comments have pointed out almost everyone with a debit card already has a free bill pay option from their bank  thus the only real market for this is paying by credit card  spiraling debt  chargebacks  this is going to end badly',\n",
       "   'score': 2},\n",
       "  {'text': 'my apartment building uses yapstone s rentpaymentcom  which charges me a flat  2495 fee to use my credit card i wonder what they are doing to get around processor fees that radpad is not',\n",
       "   'score': 3},\n",
       "  {'text': 'video seems in poor taste', 'score': 4}]}"
      ]
     },
     "execution_count": 29,
     "metadata": {},
     "output_type": "execute_result"
    }
   ],
   "source": [
    "train = symbols(train)\n",
    "train[88106]"
   ]
  },
  {
   "cell_type": "markdown",
   "id": "vn_l17UPWB4h",
   "metadata": {
    "id": "vn_l17UPWB4h"
   },
   "source": [
    "### Числа"
   ]
  },
  {
   "cell_type": "code",
   "execution_count": 30,
   "id": "RT2tK70UWBup",
   "metadata": {
    "executionInfo": {
     "elapsed": 38,
     "status": "ok",
     "timestamp": 1679255125585,
     "user": {
      "displayName": "Юлия Кутняк",
      "userId": "08576535551541913047"
     },
     "user_tz": -180
    },
    "id": "RT2tK70UWBup"
   },
   "outputs": [],
   "source": [
    "def nums(dataset):\n",
    "    reg_ex_num =r'(\\d+\\s\\d+)|(\\d+)'\n",
    "    \n",
    "    for post in dataset:\n",
    "        post['text'] = re.sub(reg_ex_num,' NUM ', post['text'])\n",
    "        comments = post['comments']\n",
    "        for comment in comments:\n",
    "            comment['text'] = re.sub(reg_ex_num,' NUM ', comment['text'])\n",
    "    return dataset"
   ]
  },
  {
   "cell_type": "code",
   "execution_count": 31,
   "id": "R8mBSOnKWBr8",
   "metadata": {
    "colab": {
     "base_uri": "https://localhost:8080/"
    },
    "executionInfo": {
     "elapsed": 14977,
     "status": "ok",
     "timestamp": 1679255140526,
     "user": {
      "displayName": "Юлия Кутняк",
      "userId": "08576535551541913047"
     },
     "user_tz": -180
    },
    "id": "R8mBSOnKWBr8",
    "outputId": "16fc6289-480d-4ac0-c9d8-ec4a64022690"
   },
   "outputs": [
    {
     "data": {
      "text/plain": [
       "{'text': 'pay your rent with a credit or debit card no landlord signup required',\n",
       " 'comments': [{'text': 'most major banks offer a service called  bill pay  which does this for free  directly from your checking account your bank first tries to pay the receiver electronically if they are in the banks network  most utility or other major companies would likely be in network   and if they are not in network or if they are just a person and not a company  then the service sends them a physical check in the mail   ',\n",
       "   'score': 0},\n",
       "  {'text': 'it costs  NUM    or   NUM  for the example of   NUM  so if you are looking to just rack up  quot reward points quot   you would be best pumping through a payment processor that takes a smaller cut  NUM  month for debit is more reasonable  but my bank will mail my rent check for free',\n",
       "   'score': 1},\n",
       "  {'text': 'as many other comments have pointed out almost everyone with a debit card already has a free bill pay option from their bank  thus the only real market for this is paying by credit card  spiraling debt  chargebacks  this is going to end badly',\n",
       "   'score': 2},\n",
       "  {'text': 'my apartment building uses yapstone s rentpaymentcom  which charges me a flat   NUM  fee to use my credit card i wonder what they are doing to get around processor fees that radpad is not',\n",
       "   'score': 3},\n",
       "  {'text': 'video seems in poor taste', 'score': 4}]}"
      ]
     },
     "execution_count": 31,
     "metadata": {},
     "output_type": "execute_result"
    }
   ],
   "source": [
    "train = nums(train)\n",
    "train[88106]"
   ]
  },
  {
   "cell_type": "code",
   "execution_count": 32,
   "id": "DzR1Gdw-WBpk",
   "metadata": {
    "executionInfo": {
     "elapsed": 408,
     "status": "ok",
     "timestamp": 1679255140904,
     "user": {
      "displayName": "Юлия Кутняк",
      "userId": "08576535551541913047"
     },
     "user_tz": -180
    },
    "id": "DzR1Gdw-WBpk"
   },
   "outputs": [],
   "source": [
    "train_nums = []\n",
    "train_count_nums = []\n",
    "for post in train:\n",
    "    for comment in post['comments']:\n",
    "        if 'NUM' in comment['text']:\n",
    "            train_nums.append(1)\n",
    "            train_count_nums.append(comment['text'].count('NUM'))\n",
    "        else:\n",
    "            train_nums.append(0)\n",
    "            train_count_nums.append(0)"
   ]
  },
  {
   "cell_type": "code",
   "execution_count": 33,
   "id": "N2Z426fvWBm9",
   "metadata": {
    "colab": {
     "base_uri": "https://localhost:8080/",
     "height": 300
    },
    "executionInfo": {
     "elapsed": 17,
     "status": "ok",
     "timestamp": 1679255140905,
     "user": {
      "displayName": "Юлия Кутняк",
      "userId": "08576535551541913047"
     },
     "user_tz": -180
    },
    "id": "N2Z426fvWBm9",
    "outputId": "c3cf27e9-5072-4c5d-871a-00b68385d84b"
   },
   "outputs": [
    {
     "data": {
      "text/html": [
       "\n",
       "  <div id=\"df-e7cac189-02bd-4b51-b868-7f739b9a627b\">\n",
       "    <div class=\"colab-df-container\">\n",
       "      <div>\n",
       "<style scoped>\n",
       "    .dataframe tbody tr th:only-of-type {\n",
       "        vertical-align: middle;\n",
       "    }\n",
       "\n",
       "    .dataframe tbody tr th {\n",
       "        vertical-align: top;\n",
       "    }\n",
       "\n",
       "    .dataframe thead th {\n",
       "        text-align: right;\n",
       "    }\n",
       "</style>\n",
       "<table border=\"1\" class=\"dataframe\">\n",
       "  <thead>\n",
       "    <tr style=\"text-align: right;\">\n",
       "      <th></th>\n",
       "      <th>post_num</th>\n",
       "      <th>comment_num</th>\n",
       "      <th>comment_score</th>\n",
       "      <th>symbols</th>\n",
       "      <th>words</th>\n",
       "      <th>url</th>\n",
       "      <th>count_url</th>\n",
       "      <th>email</th>\n",
       "      <th>num</th>\n",
       "      <th>count_num</th>\n",
       "    </tr>\n",
       "  </thead>\n",
       "  <tbody>\n",
       "    <tr>\n",
       "      <th>25015</th>\n",
       "      <td>5004</td>\n",
       "      <td>1</td>\n",
       "      <td>0</td>\n",
       "      <td>4840</td>\n",
       "      <td>787</td>\n",
       "      <td>1</td>\n",
       "      <td>2</td>\n",
       "      <td>0</td>\n",
       "      <td>1</td>\n",
       "      <td>8</td>\n",
       "    </tr>\n",
       "    <tr>\n",
       "      <th>25016</th>\n",
       "      <td>5004</td>\n",
       "      <td>2</td>\n",
       "      <td>1</td>\n",
       "      <td>1561</td>\n",
       "      <td>267</td>\n",
       "      <td>0</td>\n",
       "      <td>0</td>\n",
       "      <td>0</td>\n",
       "      <td>1</td>\n",
       "      <td>5</td>\n",
       "    </tr>\n",
       "    <tr>\n",
       "      <th>25017</th>\n",
       "      <td>5004</td>\n",
       "      <td>3</td>\n",
       "      <td>2</td>\n",
       "      <td>845</td>\n",
       "      <td>147</td>\n",
       "      <td>0</td>\n",
       "      <td>0</td>\n",
       "      <td>0</td>\n",
       "      <td>0</td>\n",
       "      <td>0</td>\n",
       "    </tr>\n",
       "    <tr>\n",
       "      <th>25018</th>\n",
       "      <td>5004</td>\n",
       "      <td>4</td>\n",
       "      <td>3</td>\n",
       "      <td>732</td>\n",
       "      <td>118</td>\n",
       "      <td>0</td>\n",
       "      <td>0</td>\n",
       "      <td>0</td>\n",
       "      <td>1</td>\n",
       "      <td>1</td>\n",
       "    </tr>\n",
       "    <tr>\n",
       "      <th>25019</th>\n",
       "      <td>5004</td>\n",
       "      <td>5</td>\n",
       "      <td>4</td>\n",
       "      <td>516</td>\n",
       "      <td>95</td>\n",
       "      <td>0</td>\n",
       "      <td>0</td>\n",
       "      <td>0</td>\n",
       "      <td>0</td>\n",
       "      <td>0</td>\n",
       "    </tr>\n",
       "    <tr>\n",
       "      <th>25020</th>\n",
       "      <td>5005</td>\n",
       "      <td>1</td>\n",
       "      <td>0</td>\n",
       "      <td>814</td>\n",
       "      <td>151</td>\n",
       "      <td>0</td>\n",
       "      <td>0</td>\n",
       "      <td>0</td>\n",
       "      <td>1</td>\n",
       "      <td>2</td>\n",
       "    </tr>\n",
       "    <tr>\n",
       "      <th>25021</th>\n",
       "      <td>5005</td>\n",
       "      <td>2</td>\n",
       "      <td>1</td>\n",
       "      <td>1486</td>\n",
       "      <td>248</td>\n",
       "      <td>1</td>\n",
       "      <td>1</td>\n",
       "      <td>0</td>\n",
       "      <td>1</td>\n",
       "      <td>3</td>\n",
       "    </tr>\n",
       "    <tr>\n",
       "      <th>25022</th>\n",
       "      <td>5005</td>\n",
       "      <td>3</td>\n",
       "      <td>2</td>\n",
       "      <td>124</td>\n",
       "      <td>23</td>\n",
       "      <td>0</td>\n",
       "      <td>0</td>\n",
       "      <td>0</td>\n",
       "      <td>1</td>\n",
       "      <td>1</td>\n",
       "    </tr>\n",
       "  </tbody>\n",
       "</table>\n",
       "</div>\n",
       "      <button class=\"colab-df-convert\" onclick=\"convertToInteractive('df-e7cac189-02bd-4b51-b868-7f739b9a627b')\"\n",
       "              title=\"Convert this dataframe to an interactive table.\"\n",
       "              style=\"display:none;\">\n",
       "        \n",
       "  <svg xmlns=\"http://www.w3.org/2000/svg\" height=\"24px\"viewBox=\"0 0 24 24\"\n",
       "       width=\"24px\">\n",
       "    <path d=\"M0 0h24v24H0V0z\" fill=\"none\"/>\n",
       "    <path d=\"M18.56 5.44l.94 2.06.94-2.06 2.06-.94-2.06-.94-.94-2.06-.94 2.06-2.06.94zm-11 1L8.5 8.5l.94-2.06 2.06-.94-2.06-.94L8.5 2.5l-.94 2.06-2.06.94zm10 10l.94 2.06.94-2.06 2.06-.94-2.06-.94-.94-2.06-.94 2.06-2.06.94z\"/><path d=\"M17.41 7.96l-1.37-1.37c-.4-.4-.92-.59-1.43-.59-.52 0-1.04.2-1.43.59L10.3 9.45l-7.72 7.72c-.78.78-.78 2.05 0 2.83L4 21.41c.39.39.9.59 1.41.59.51 0 1.02-.2 1.41-.59l7.78-7.78 2.81-2.81c.8-.78.8-2.07 0-2.86zM5.41 20L4 18.59l7.72-7.72 1.47 1.35L5.41 20z\"/>\n",
       "  </svg>\n",
       "      </button>\n",
       "      \n",
       "  <style>\n",
       "    .colab-df-container {\n",
       "      display:flex;\n",
       "      flex-wrap:wrap;\n",
       "      gap: 12px;\n",
       "    }\n",
       "\n",
       "    .colab-df-convert {\n",
       "      background-color: #E8F0FE;\n",
       "      border: none;\n",
       "      border-radius: 50%;\n",
       "      cursor: pointer;\n",
       "      display: none;\n",
       "      fill: #1967D2;\n",
       "      height: 32px;\n",
       "      padding: 0 0 0 0;\n",
       "      width: 32px;\n",
       "    }\n",
       "\n",
       "    .colab-df-convert:hover {\n",
       "      background-color: #E2EBFA;\n",
       "      box-shadow: 0px 1px 2px rgba(60, 64, 67, 0.3), 0px 1px 3px 1px rgba(60, 64, 67, 0.15);\n",
       "      fill: #174EA6;\n",
       "    }\n",
       "\n",
       "    [theme=dark] .colab-df-convert {\n",
       "      background-color: #3B4455;\n",
       "      fill: #D2E3FC;\n",
       "    }\n",
       "\n",
       "    [theme=dark] .colab-df-convert:hover {\n",
       "      background-color: #434B5C;\n",
       "      box-shadow: 0px 1px 3px 1px rgba(0, 0, 0, 0.15);\n",
       "      filter: drop-shadow(0px 1px 2px rgba(0, 0, 0, 0.3));\n",
       "      fill: #FFFFFF;\n",
       "    }\n",
       "  </style>\n",
       "\n",
       "      <script>\n",
       "        const buttonEl =\n",
       "          document.querySelector('#df-e7cac189-02bd-4b51-b868-7f739b9a627b button.colab-df-convert');\n",
       "        buttonEl.style.display =\n",
       "          google.colab.kernel.accessAllowed ? 'block' : 'none';\n",
       "\n",
       "        async function convertToInteractive(key) {\n",
       "          const element = document.querySelector('#df-e7cac189-02bd-4b51-b868-7f739b9a627b');\n",
       "          const dataTable =\n",
       "            await google.colab.kernel.invokeFunction('convertToInteractive',\n",
       "                                                     [key], {});\n",
       "          if (!dataTable) return;\n",
       "\n",
       "          const docLinkHtml = 'Like what you see? Visit the ' +\n",
       "            '<a target=\"_blank\" href=https://colab.research.google.com/notebooks/data_table.ipynb>data table notebook</a>'\n",
       "            + ' to learn more about interactive tables.';\n",
       "          element.innerHTML = '';\n",
       "          dataTable['output_type'] = 'display_data';\n",
       "          await google.colab.output.renderOutput(dataTable, element);\n",
       "          const docLink = document.createElement('div');\n",
       "          docLink.innerHTML = docLinkHtml;\n",
       "          element.appendChild(docLink);\n",
       "        }\n",
       "      </script>\n",
       "    </div>\n",
       "  </div>\n",
       "  "
      ],
      "text/plain": [
       "       post_num  comment_num  comment_score  symbols  words  url  count_url  \\\n",
       "25015      5004            1              0     4840    787    1          2   \n",
       "25016      5004            2              1     1561    267    0          0   \n",
       "25017      5004            3              2      845    147    0          0   \n",
       "25018      5004            4              3      732    118    0          0   \n",
       "25019      5004            5              4      516     95    0          0   \n",
       "25020      5005            1              0      814    151    0          0   \n",
       "25021      5005            2              1     1486    248    1          1   \n",
       "25022      5005            3              2      124     23    0          0   \n",
       "\n",
       "       email  num  count_num  \n",
       "25015      0    1          8  \n",
       "25016      0    1          5  \n",
       "25017      0    0          0  \n",
       "25018      0    1          1  \n",
       "25019      0    0          0  \n",
       "25020      0    1          2  \n",
       "25021      0    1          3  \n",
       "25022      0    1          1  "
      ]
     },
     "execution_count": 33,
     "metadata": {},
     "output_type": "execute_result"
    }
   ],
   "source": [
    "train_df['num'] = train_nums\n",
    "train_df['count_num'] = train_count_nums\n",
    "train_df[25015:25023]"
   ]
  },
  {
   "cell_type": "code",
   "execution_count": 34,
   "id": "emBb1JnFhpl6",
   "metadata": {
    "executionInfo": {
     "elapsed": 16,
     "status": "ok",
     "timestamp": 1679255140906,
     "user": {
      "displayName": "Юлия Кутняк",
      "userId": "08576535551541913047"
     },
     "user_tz": -180
    },
    "id": "emBb1JnFhpl6"
   },
   "outputs": [],
   "source": [
    "def del_nums(dataset):\n",
    "    for post in dataset:\n",
    "        post['text'] = post['text'].replace('NUM', '')\n",
    "        comments = post['comments']\n",
    "        for comment in comments:\n",
    "            comment['text'] = comment['text'].replace('NUM', '')\n",
    "    return dataset"
   ]
  },
  {
   "cell_type": "code",
   "execution_count": 35,
   "id": "wP6aWwhyhzjK",
   "metadata": {
    "colab": {
     "base_uri": "https://localhost:8080/"
    },
    "executionInfo": {
     "elapsed": 301,
     "status": "ok",
     "timestamp": 1679255141192,
     "user": {
      "displayName": "Юлия Кутняк",
      "userId": "08576535551541913047"
     },
     "user_tz": -180
    },
    "id": "wP6aWwhyhzjK",
    "outputId": "c97a918e-e5e0-4c62-9b89-fb31b6c5f259"
   },
   "outputs": [
    {
     "data": {
      "text/plain": [
       "{'text': 'pay your rent with a credit or debit card no landlord signup required',\n",
       " 'comments': [{'text': 'most major banks offer a service called  bill pay  which does this for free  directly from your checking account your bank first tries to pay the receiver electronically if they are in the banks network  most utility or other major companies would likely be in network   and if they are not in network or if they are just a person and not a company  then the service sends them a physical check in the mail   ',\n",
       "   'score': 0},\n",
       "  {'text': 'it costs      or     for the example of     so if you are looking to just rack up  quot reward points quot   you would be best pumping through a payment processor that takes a smaller cut    month for debit is more reasonable  but my bank will mail my rent check for free',\n",
       "   'score': 1},\n",
       "  {'text': 'as many other comments have pointed out almost everyone with a debit card already has a free bill pay option from their bank  thus the only real market for this is paying by credit card  spiraling debt  chargebacks  this is going to end badly',\n",
       "   'score': 2},\n",
       "  {'text': 'my apartment building uses yapstone s rentpaymentcom  which charges me a flat     fee to use my credit card i wonder what they are doing to get around processor fees that radpad is not',\n",
       "   'score': 3},\n",
       "  {'text': 'video seems in poor taste', 'score': 4}]}"
      ]
     },
     "execution_count": 35,
     "metadata": {},
     "output_type": "execute_result"
    }
   ],
   "source": [
    "train = del_nums(train)\n",
    "train[88106]"
   ]
  },
  {
   "cell_type": "markdown",
   "id": "jKtxQZ-Xh7Jh",
   "metadata": {
    "id": "jKtxQZ-Xh7Jh"
   },
   "source": [
    "### Лишние пробелы"
   ]
  },
  {
   "cell_type": "code",
   "execution_count": 36,
   "id": "Wq0WwSW3h8yR",
   "metadata": {
    "executionInfo": {
     "elapsed": 5,
     "status": "ok",
     "timestamp": 1679255141193,
     "user": {
      "displayName": "Юлия Кутняк",
      "userId": "08576535551541913047"
     },
     "user_tz": -180
    },
    "id": "Wq0WwSW3h8yR"
   },
   "outputs": [],
   "source": [
    "def spases(dataset):\n",
    "    for post in dataset:\n",
    "        post['text'] = \" \".join(post['text'].split())\n",
    "        comments = post['comments']\n",
    "        for comment in comments:\n",
    "            comment['text'] = \" \".join(comment['text'].split())\n",
    "    return dataset"
   ]
  },
  {
   "cell_type": "code",
   "execution_count": 37,
   "id": "Rxj-SOJsh8vp",
   "metadata": {
    "colab": {
     "base_uri": "https://localhost:8080/"
    },
    "executionInfo": {
     "elapsed": 4468,
     "status": "ok",
     "timestamp": 1679255145657,
     "user": {
      "displayName": "Юлия Кутняк",
      "userId": "08576535551541913047"
     },
     "user_tz": -180
    },
    "id": "Rxj-SOJsh8vp",
    "outputId": "860f579c-96d9-4406-f2d7-e3703aeda8a8"
   },
   "outputs": [
    {
     "data": {
      "text/plain": [
       "{'text': 'pay your rent with a credit or debit card no landlord signup required',\n",
       " 'comments': [{'text': 'most major banks offer a service called bill pay which does this for free directly from your checking account your bank first tries to pay the receiver electronically if they are in the banks network most utility or other major companies would likely be in network and if they are not in network or if they are just a person and not a company then the service sends them a physical check in the mail',\n",
       "   'score': 0},\n",
       "  {'text': 'it costs or for the example of so if you are looking to just rack up quot reward points quot you would be best pumping through a payment processor that takes a smaller cut month for debit is more reasonable but my bank will mail my rent check for free',\n",
       "   'score': 1},\n",
       "  {'text': 'as many other comments have pointed out almost everyone with a debit card already has a free bill pay option from their bank thus the only real market for this is paying by credit card spiraling debt chargebacks this is going to end badly',\n",
       "   'score': 2},\n",
       "  {'text': 'my apartment building uses yapstone s rentpaymentcom which charges me a flat fee to use my credit card i wonder what they are doing to get around processor fees that radpad is not',\n",
       "   'score': 3},\n",
       "  {'text': 'video seems in poor taste', 'score': 4}]}"
      ]
     },
     "execution_count": 37,
     "metadata": {},
     "output_type": "execute_result"
    }
   ],
   "source": [
    "train = spases(train)\n",
    "train[88106]"
   ]
  },
  {
   "cell_type": "markdown",
   "id": "V5z2ylwZ8ky0",
   "metadata": {
    "id": "V5z2ylwZ8ky0"
   },
   "source": [
    "## Дополнительная обработка"
   ]
  },
  {
   "cell_type": "code",
   "execution_count": 38,
   "id": "s-CWSdDC8rsu",
   "metadata": {
    "executionInfo": {
     "elapsed": 2921,
     "status": "ok",
     "timestamp": 1679255153631,
     "user": {
      "displayName": "Юлия Кутняк",
      "userId": "08576535551541913047"
     },
     "user_tz": -180
    },
    "id": "s-CWSdDC8rsu"
   },
   "outputs": [],
   "source": [
    "clean_train = copy.deepcopy(train)"
   ]
  },
  {
   "cell_type": "markdown",
   "id": "00o93Fv1806j",
   "metadata": {
    "id": "00o93Fv1806j"
   },
   "source": [
    "### Токенизация"
   ]
  },
  {
   "cell_type": "code",
   "execution_count": 39,
   "id": "oPOU4mxv87XY",
   "metadata": {
    "executionInfo": {
     "elapsed": 304,
     "status": "ok",
     "timestamp": 1679255156373,
     "user": {
      "displayName": "Юлия Кутняк",
      "userId": "08576535551541913047"
     },
     "user_tz": -180
    },
    "id": "oPOU4mxv87XY"
   },
   "outputs": [],
   "source": [
    "def tokens(dataset):\n",
    "    for post in dataset:\n",
    "        post['text'] = nltk.word_tokenize(post['text'])\n",
    "        comments = post['comments']\n",
    "        for comment in comments:\n",
    "            comment['text'] = nltk.word_tokenize(comment['text'])\n",
    "    return dataset"
   ]
  },
  {
   "cell_type": "code",
   "execution_count": 42,
   "id": "RouWSLxu8-xI",
   "metadata": {
    "colab": {
     "base_uri": "https://localhost:8080/"
    },
    "executionInfo": {
     "elapsed": 192236,
     "status": "ok",
     "timestamp": 1679255391000,
     "user": {
      "displayName": "Юлия Кутняк",
      "userId": "08576535551541913047"
     },
     "user_tz": -180
    },
    "id": "RouWSLxu8-xI",
    "outputId": "8f438d5a-ba69-458b-b9d1-5102cda8c1c3"
   },
   "outputs": [
    {
     "data": {
      "text/plain": [
       "['pay',\n",
       " 'your',\n",
       " 'rent',\n",
       " 'with',\n",
       " 'a',\n",
       " 'credit',\n",
       " 'or',\n",
       " 'debit',\n",
       " 'card',\n",
       " 'no',\n",
       " 'landlord',\n",
       " 'signup',\n",
       " 'required']"
      ]
     },
     "execution_count": 42,
     "metadata": {},
     "output_type": "execute_result"
    }
   ],
   "source": [
    "clean_train = tokens(clean_train)\n",
    "clean_train[88106]['text']"
   ]
  },
  {
   "cell_type": "markdown",
   "id": "iwJhp6tfL6Z4",
   "metadata": {
    "id": "iwJhp6tfL6Z4"
   },
   "source": [
    "### Удаление стоп-слов"
   ]
  },
  {
   "cell_type": "code",
   "execution_count": 43,
   "id": "MN1CCiRtL7Ho",
   "metadata": {
    "executionInfo": {
     "elapsed": 10,
     "status": "ok",
     "timestamp": 1679255509804,
     "user": {
      "displayName": "Юлия Кутняк",
      "userId": "08576535551541913047"
     },
     "user_tz": -180
    },
    "id": "MN1CCiRtL7Ho"
   },
   "outputs": [],
   "source": [
    "stop_words = stopwords.words('english')\n",
    "\n",
    "def del_stop_words(dataset):\n",
    "    for post in dataset:\n",
    "        for word in post['text']:\n",
    "           if word in stop_words:\n",
    "               del word\n",
    "        comments = post['comments']\n",
    "        for comment in comments:\n",
    "            for word in comment['text']:\n",
    "                if word in stop_words:\n",
    "                    del word\n",
    "\n",
    "    return dataset"
   ]
  },
  {
   "cell_type": "code",
   "execution_count": 44,
   "id": "JygfFeMAL6ve",
   "metadata": {
    "colab": {
     "base_uri": "https://localhost:8080/"
    },
    "executionInfo": {
     "elapsed": 73820,
     "status": "ok",
     "timestamp": 1679255583617,
     "user": {
      "displayName": "Юлия Кутняк",
      "userId": "08576535551541913047"
     },
     "user_tz": -180
    },
    "id": "JygfFeMAL6ve",
    "outputId": "5288e2b0-11c4-4f05-8f56-aab13b0ca481"
   },
   "outputs": [
    {
     "data": {
      "text/plain": [
       "['pay',\n",
       " 'your',\n",
       " 'rent',\n",
       " 'with',\n",
       " 'a',\n",
       " 'credit',\n",
       " 'or',\n",
       " 'debit',\n",
       " 'card',\n",
       " 'no',\n",
       " 'landlord',\n",
       " 'signup',\n",
       " 'required']"
      ]
     },
     "execution_count": 44,
     "metadata": {},
     "output_type": "execute_result"
    }
   ],
   "source": [
    "clean_train = del_stop_words(clean_train)\n",
    "clean_train[88106]['text']"
   ]
  },
  {
   "cell_type": "markdown",
   "id": "SeRE17By-UBW",
   "metadata": {
    "id": "SeRE17By-UBW"
   },
   "source": [
    "### Лемматизация"
   ]
  },
  {
   "cell_type": "code",
   "execution_count": 45,
   "id": "ZGuPEu55-VK2",
   "metadata": {
    "executionInfo": {
     "elapsed": 311,
     "status": "ok",
     "timestamp": 1679255803337,
     "user": {
      "displayName": "Юлия Кутняк",
      "userId": "08576535551541913047"
     },
     "user_tz": -180
    },
    "id": "ZGuPEu55-VK2"
   },
   "outputs": [],
   "source": [
    "def pos_tags(dataset):\n",
    "    for post in dataset:\n",
    "        post['text'] = nltk.pos_tag(post['text'])\n",
    "        comments = post['comments']\n",
    "        for comment in comments:\n",
    "            comment['text'] = nltk.pos_tag(comment['text'])\n",
    "\n",
    "    return dataset"
   ]
  },
  {
   "cell_type": "code",
   "execution_count": 46,
   "id": "-S9Z6EuACQWe",
   "metadata": {
    "colab": {
     "base_uri": "https://localhost:8080/"
    },
    "executionInfo": {
     "elapsed": 1978160,
     "status": "ok",
     "timestamp": 1679257797196,
     "user": {
      "displayName": "Юлия Кутняк",
      "userId": "08576535551541913047"
     },
     "user_tz": -180
    },
    "id": "-S9Z6EuACQWe",
    "outputId": "599f8ead-3acd-4318-ceda-a12e4dbf1818"
   },
   "outputs": [
    {
     "data": {
      "text/plain": [
       "[('pay', 'VB'),\n",
       " ('your', 'PRP$'),\n",
       " ('rent', 'NN'),\n",
       " ('with', 'IN'),\n",
       " ('a', 'DT'),\n",
       " ('credit', 'NN'),\n",
       " ('or', 'CC'),\n",
       " ('debit', 'VB'),\n",
       " ('card', 'JJ'),\n",
       " ('no', 'DT'),\n",
       " ('landlord', 'NN'),\n",
       " ('signup', 'NN'),\n",
       " ('required', 'VBN')]"
      ]
     },
     "execution_count": 46,
     "metadata": {},
     "output_type": "execute_result"
    }
   ],
   "source": [
    "clean_train = pos_tags(clean_train)\n",
    "clean_train[88106]['text']"
   ]
  },
  {
   "cell_type": "code",
   "execution_count": 47,
   "id": "BwrzXlhJBF-L",
   "metadata": {
    "executionInfo": {
     "elapsed": 336,
     "status": "ok",
     "timestamp": 1679257882385,
     "user": {
      "displayName": "Юлия Кутняк",
      "userId": "08576535551541913047"
     },
     "user_tz": -180
    },
    "id": "BwrzXlhJBF-L"
   },
   "outputs": [],
   "source": [
    "def other_tags(nltk_tag):\n",
    "    if nltk_tag.startswith('J'):\n",
    "        return wordnet.ADJ\n",
    "    elif nltk_tag.startswith('V'):\n",
    "        return wordnet.VERB\n",
    "    elif nltk_tag.startswith('N'):\n",
    "        return wordnet.NOUN\n",
    "    elif nltk_tag.startswith('R'):\n",
    "        return wordnet.ADV\n",
    "    else:         \n",
    "        return None"
   ]
  },
  {
   "cell_type": "code",
   "execution_count": 48,
   "id": "scq0-iMLDStv",
   "metadata": {
    "colab": {
     "base_uri": "https://localhost:8080/"
    },
    "executionInfo": {
     "elapsed": 45678,
     "status": "ok",
     "timestamp": 1679257930614,
     "user": {
      "displayName": "Юлия Кутняк",
      "userId": "08576535551541913047"
     },
     "user_tz": -180
    },
    "id": "scq0-iMLDStv",
    "outputId": "9389fa87-2cca-4ab2-b483-ff145851845e"
   },
   "outputs": [
    {
     "data": {
      "text/plain": [
       "[('pay', 'v'),\n",
       " ('your', None),\n",
       " ('rent', 'n'),\n",
       " ('with', None),\n",
       " ('a', None),\n",
       " ('credit', 'n'),\n",
       " ('or', None),\n",
       " ('debit', 'v'),\n",
       " ('card', 'a'),\n",
       " ('no', None),\n",
       " ('landlord', 'n'),\n",
       " ('signup', 'n'),\n",
       " ('required', 'v')]"
      ]
     },
     "execution_count": 48,
     "metadata": {},
     "output_type": "execute_result"
    }
   ],
   "source": [
    "for post in clean_train:\n",
    "    post_text = []\n",
    "    for words in post['text']:\n",
    "        word = words[0]\n",
    "        tag = other_tags(words[1])\n",
    "        word_tag = [word, tag]\n",
    "        post_text.append(tuple(word_tag))\n",
    "        post['text'] = post_text\n",
    "    comments = post['comments']\n",
    "    for comment in comments:\n",
    "        comment_text = []\n",
    "        for words in comment['text']:\n",
    "            word = words[0]\n",
    "            tag = other_tags(words[1])\n",
    "            word_tag = [word, tag]\n",
    "            comment_text.append(tuple(word_tag))\n",
    "            comment['text'] = comment_text\n",
    "\n",
    "clean_train[88106]['text']"
   ]
  },
  {
   "cell_type": "markdown",
   "id": "mnMhyYzgTskL",
   "metadata": {
    "id": "mnMhyYzgTskL"
   },
   "source": [
    "Добавим данные по количеству частей речи в комментариях в таблицу"
   ]
  },
  {
   "cell_type": "code",
   "execution_count": 54,
   "id": "lBTKch2YPl3E",
   "metadata": {
    "colab": {
     "base_uri": "https://localhost:8080/",
     "height": 300
    },
    "executionInfo": {
     "elapsed": 12534,
     "status": "ok",
     "timestamp": 1679258541104,
     "user": {
      "displayName": "Юлия Кутняк",
      "userId": "08576535551541913047"
     },
     "user_tz": -180
    },
    "id": "lBTKch2YPl3E",
    "outputId": "a343fa55-ad50-4557-c2ce-52c5eed7ac58"
   },
   "outputs": [
    {
     "data": {
      "text/html": [
       "\n",
       "  <div id=\"df-5736b8c8-b6f7-4a9e-bac0-96007bb25371\">\n",
       "    <div class=\"colab-df-container\">\n",
       "      <div>\n",
       "<style scoped>\n",
       "    .dataframe tbody tr th:only-of-type {\n",
       "        vertical-align: middle;\n",
       "    }\n",
       "\n",
       "    .dataframe tbody tr th {\n",
       "        vertical-align: top;\n",
       "    }\n",
       "\n",
       "    .dataframe thead th {\n",
       "        text-align: right;\n",
       "    }\n",
       "</style>\n",
       "<table border=\"1\" class=\"dataframe\">\n",
       "  <thead>\n",
       "    <tr style=\"text-align: right;\">\n",
       "      <th></th>\n",
       "      <th>post_num</th>\n",
       "      <th>comment_num</th>\n",
       "      <th>comment_score</th>\n",
       "      <th>symbols</th>\n",
       "      <th>words</th>\n",
       "      <th>url</th>\n",
       "      <th>count_url</th>\n",
       "      <th>email</th>\n",
       "      <th>num</th>\n",
       "      <th>count_num</th>\n",
       "      <th>noun</th>\n",
       "      <th>verb</th>\n",
       "      <th>adj</th>\n",
       "      <th>adv</th>\n",
       "    </tr>\n",
       "  </thead>\n",
       "  <tbody>\n",
       "    <tr>\n",
       "      <th>25015</th>\n",
       "      <td>5004</td>\n",
       "      <td>1</td>\n",
       "      <td>0</td>\n",
       "      <td>4840</td>\n",
       "      <td>787</td>\n",
       "      <td>1</td>\n",
       "      <td>2</td>\n",
       "      <td>0</td>\n",
       "      <td>1</td>\n",
       "      <td>8</td>\n",
       "      <td>186</td>\n",
       "      <td>152</td>\n",
       "      <td>79</td>\n",
       "      <td>63</td>\n",
       "    </tr>\n",
       "    <tr>\n",
       "      <th>25016</th>\n",
       "      <td>5004</td>\n",
       "      <td>2</td>\n",
       "      <td>1</td>\n",
       "      <td>1561</td>\n",
       "      <td>267</td>\n",
       "      <td>0</td>\n",
       "      <td>0</td>\n",
       "      <td>0</td>\n",
       "      <td>1</td>\n",
       "      <td>5</td>\n",
       "      <td>56</td>\n",
       "      <td>54</td>\n",
       "      <td>31</td>\n",
       "      <td>26</td>\n",
       "    </tr>\n",
       "    <tr>\n",
       "      <th>25017</th>\n",
       "      <td>5004</td>\n",
       "      <td>3</td>\n",
       "      <td>2</td>\n",
       "      <td>845</td>\n",
       "      <td>147</td>\n",
       "      <td>0</td>\n",
       "      <td>0</td>\n",
       "      <td>0</td>\n",
       "      <td>0</td>\n",
       "      <td>0</td>\n",
       "      <td>35</td>\n",
       "      <td>28</td>\n",
       "      <td>16</td>\n",
       "      <td>14</td>\n",
       "    </tr>\n",
       "    <tr>\n",
       "      <th>25018</th>\n",
       "      <td>5004</td>\n",
       "      <td>4</td>\n",
       "      <td>3</td>\n",
       "      <td>732</td>\n",
       "      <td>118</td>\n",
       "      <td>0</td>\n",
       "      <td>0</td>\n",
       "      <td>0</td>\n",
       "      <td>1</td>\n",
       "      <td>1</td>\n",
       "      <td>31</td>\n",
       "      <td>25</td>\n",
       "      <td>20</td>\n",
       "      <td>7</td>\n",
       "    </tr>\n",
       "    <tr>\n",
       "      <th>25019</th>\n",
       "      <td>5004</td>\n",
       "      <td>5</td>\n",
       "      <td>4</td>\n",
       "      <td>516</td>\n",
       "      <td>95</td>\n",
       "      <td>0</td>\n",
       "      <td>0</td>\n",
       "      <td>0</td>\n",
       "      <td>0</td>\n",
       "      <td>0</td>\n",
       "      <td>22</td>\n",
       "      <td>23</td>\n",
       "      <td>10</td>\n",
       "      <td>8</td>\n",
       "    </tr>\n",
       "    <tr>\n",
       "      <th>25020</th>\n",
       "      <td>5005</td>\n",
       "      <td>1</td>\n",
       "      <td>0</td>\n",
       "      <td>814</td>\n",
       "      <td>151</td>\n",
       "      <td>0</td>\n",
       "      <td>0</td>\n",
       "      <td>0</td>\n",
       "      <td>1</td>\n",
       "      <td>2</td>\n",
       "      <td>35</td>\n",
       "      <td>30</td>\n",
       "      <td>8</td>\n",
       "      <td>11</td>\n",
       "    </tr>\n",
       "    <tr>\n",
       "      <th>25021</th>\n",
       "      <td>5005</td>\n",
       "      <td>2</td>\n",
       "      <td>1</td>\n",
       "      <td>1486</td>\n",
       "      <td>248</td>\n",
       "      <td>1</td>\n",
       "      <td>1</td>\n",
       "      <td>0</td>\n",
       "      <td>1</td>\n",
       "      <td>3</td>\n",
       "      <td>62</td>\n",
       "      <td>53</td>\n",
       "      <td>28</td>\n",
       "      <td>27</td>\n",
       "    </tr>\n",
       "    <tr>\n",
       "      <th>25022</th>\n",
       "      <td>5005</td>\n",
       "      <td>3</td>\n",
       "      <td>2</td>\n",
       "      <td>124</td>\n",
       "      <td>23</td>\n",
       "      <td>0</td>\n",
       "      <td>0</td>\n",
       "      <td>0</td>\n",
       "      <td>1</td>\n",
       "      <td>1</td>\n",
       "      <td>8</td>\n",
       "      <td>2</td>\n",
       "      <td>6</td>\n",
       "      <td>1</td>\n",
       "    </tr>\n",
       "  </tbody>\n",
       "</table>\n",
       "</div>\n",
       "      <button class=\"colab-df-convert\" onclick=\"convertToInteractive('df-5736b8c8-b6f7-4a9e-bac0-96007bb25371')\"\n",
       "              title=\"Convert this dataframe to an interactive table.\"\n",
       "              style=\"display:none;\">\n",
       "        \n",
       "  <svg xmlns=\"http://www.w3.org/2000/svg\" height=\"24px\"viewBox=\"0 0 24 24\"\n",
       "       width=\"24px\">\n",
       "    <path d=\"M0 0h24v24H0V0z\" fill=\"none\"/>\n",
       "    <path d=\"M18.56 5.44l.94 2.06.94-2.06 2.06-.94-2.06-.94-.94-2.06-.94 2.06-2.06.94zm-11 1L8.5 8.5l.94-2.06 2.06-.94-2.06-.94L8.5 2.5l-.94 2.06-2.06.94zm10 10l.94 2.06.94-2.06 2.06-.94-2.06-.94-.94-2.06-.94 2.06-2.06.94z\"/><path d=\"M17.41 7.96l-1.37-1.37c-.4-.4-.92-.59-1.43-.59-.52 0-1.04.2-1.43.59L10.3 9.45l-7.72 7.72c-.78.78-.78 2.05 0 2.83L4 21.41c.39.39.9.59 1.41.59.51 0 1.02-.2 1.41-.59l7.78-7.78 2.81-2.81c.8-.78.8-2.07 0-2.86zM5.41 20L4 18.59l7.72-7.72 1.47 1.35L5.41 20z\"/>\n",
       "  </svg>\n",
       "      </button>\n",
       "      \n",
       "  <style>\n",
       "    .colab-df-container {\n",
       "      display:flex;\n",
       "      flex-wrap:wrap;\n",
       "      gap: 12px;\n",
       "    }\n",
       "\n",
       "    .colab-df-convert {\n",
       "      background-color: #E8F0FE;\n",
       "      border: none;\n",
       "      border-radius: 50%;\n",
       "      cursor: pointer;\n",
       "      display: none;\n",
       "      fill: #1967D2;\n",
       "      height: 32px;\n",
       "      padding: 0 0 0 0;\n",
       "      width: 32px;\n",
       "    }\n",
       "\n",
       "    .colab-df-convert:hover {\n",
       "      background-color: #E2EBFA;\n",
       "      box-shadow: 0px 1px 2px rgba(60, 64, 67, 0.3), 0px 1px 3px 1px rgba(60, 64, 67, 0.15);\n",
       "      fill: #174EA6;\n",
       "    }\n",
       "\n",
       "    [theme=dark] .colab-df-convert {\n",
       "      background-color: #3B4455;\n",
       "      fill: #D2E3FC;\n",
       "    }\n",
       "\n",
       "    [theme=dark] .colab-df-convert:hover {\n",
       "      background-color: #434B5C;\n",
       "      box-shadow: 0px 1px 3px 1px rgba(0, 0, 0, 0.15);\n",
       "      filter: drop-shadow(0px 1px 2px rgba(0, 0, 0, 0.3));\n",
       "      fill: #FFFFFF;\n",
       "    }\n",
       "  </style>\n",
       "\n",
       "      <script>\n",
       "        const buttonEl =\n",
       "          document.querySelector('#df-5736b8c8-b6f7-4a9e-bac0-96007bb25371 button.colab-df-convert');\n",
       "        buttonEl.style.display =\n",
       "          google.colab.kernel.accessAllowed ? 'block' : 'none';\n",
       "\n",
       "        async function convertToInteractive(key) {\n",
       "          const element = document.querySelector('#df-5736b8c8-b6f7-4a9e-bac0-96007bb25371');\n",
       "          const dataTable =\n",
       "            await google.colab.kernel.invokeFunction('convertToInteractive',\n",
       "                                                     [key], {});\n",
       "          if (!dataTable) return;\n",
       "\n",
       "          const docLinkHtml = 'Like what you see? Visit the ' +\n",
       "            '<a target=\"_blank\" href=https://colab.research.google.com/notebooks/data_table.ipynb>data table notebook</a>'\n",
       "            + ' to learn more about interactive tables.';\n",
       "          element.innerHTML = '';\n",
       "          dataTable['output_type'] = 'display_data';\n",
       "          await google.colab.output.renderOutput(dataTable, element);\n",
       "          const docLink = document.createElement('div');\n",
       "          docLink.innerHTML = docLinkHtml;\n",
       "          element.appendChild(docLink);\n",
       "        }\n",
       "      </script>\n",
       "    </div>\n",
       "  </div>\n",
       "  "
      ],
      "text/plain": [
       "       post_num  comment_num  comment_score  symbols  words  url  count_url  \\\n",
       "25015      5004            1              0     4840    787    1          2   \n",
       "25016      5004            2              1     1561    267    0          0   \n",
       "25017      5004            3              2      845    147    0          0   \n",
       "25018      5004            4              3      732    118    0          0   \n",
       "25019      5004            5              4      516     95    0          0   \n",
       "25020      5005            1              0      814    151    0          0   \n",
       "25021      5005            2              1     1486    248    1          1   \n",
       "25022      5005            3              2      124     23    0          0   \n",
       "\n",
       "       email  num  count_num  noun  verb  adj  adv  \n",
       "25015      0    1          8   186   152   79   63  \n",
       "25016      0    1          5    56    54   31   26  \n",
       "25017      0    0          0    35    28   16   14  \n",
       "25018      0    1          1    31    25   20    7  \n",
       "25019      0    0          0    22    23   10    8  \n",
       "25020      0    1          2    35    30    8   11  \n",
       "25021      0    1          3    62    53   28   27  \n",
       "25022      0    1          1     8     2    6    1  "
      ]
     },
     "execution_count": 54,
     "metadata": {},
     "output_type": "execute_result"
    }
   ],
   "source": [
    "nouns = []\n",
    "verbs = []\n",
    "adjectives = []\n",
    "adverbs = []\n",
    "\n",
    "for post in clean_train:\n",
    "    for comment in post['comments']:\n",
    "        n = 0\n",
    "        v = 0\n",
    "        a = 0\n",
    "        r = 0\n",
    "        for word in comment['text']:\n",
    "            if word[1] == 'a':\n",
    "                a += 1\n",
    "            elif word[1] == 'n':\n",
    "                n += 1\n",
    "            elif word[1] == 'v':\n",
    "                v += 1\n",
    "            elif word[1] == 'r':\n",
    "                r += 1\n",
    "        nouns.append(n)\n",
    "        verbs.append(v)\n",
    "        adjectives.append(a)\n",
    "        adverbs.append(r)\n",
    "\n",
    "train_df['noun'] = nouns\n",
    "train_df['verb'] = verbs\n",
    "train_df['adj'] = adjectives\n",
    "train_df['adv'] = adverbs\n",
    "train_df[25015:25023]"
   ]
  },
  {
   "cell_type": "code",
   "execution_count": 55,
   "id": "GI8m5gsSDQ20",
   "metadata": {
    "executionInfo": {
     "elapsed": 309,
     "status": "ok",
     "timestamp": 1679258565060,
     "user": {
      "displayName": "Юлия Кутняк",
      "userId": "08576535551541913047"
     },
     "user_tz": -180
    },
    "id": "GI8m5gsSDQ20"
   },
   "outputs": [],
   "source": [
    "lemmatizer = WordNetLemmatizer()\n",
    "\n",
    "def lemmas(dataset):\n",
    "    for post in dataset:\n",
    "        post_text = []\n",
    "        for pair in post['text']:\n",
    "            if pair[1] is None:\n",
    "                post_text.append(pair[0])\n",
    "            else:\n",
    "                post_text.append(lemmatizer.lemmatize(pair[0], pair[1]))\n",
    "        post['text'] = post_text\n",
    "        comments = post['comments']\n",
    "        for comment in comments:\n",
    "            comment_text = []\n",
    "            for pair in comment['text']:\n",
    "                if pair[1] is None:\n",
    "                    comment_text.append(pair[0])\n",
    "                else:\n",
    "                    comment_text.append(lemmatizer.lemmatize(pair[0], pair[1]))\n",
    "            comment['text'] = comment_text\n",
    "    return dataset"
   ]
  },
  {
   "cell_type": "code",
   "execution_count": 56,
   "id": "K0O1y7AF-U78",
   "metadata": {
    "colab": {
     "base_uri": "https://localhost:8080/"
    },
    "executionInfo": {
     "elapsed": 110379,
     "status": "ok",
     "timestamp": 1679258680247,
     "user": {
      "displayName": "Юлия Кутняк",
      "userId": "08576535551541913047"
     },
     "user_tz": -180
    },
    "id": "K0O1y7AF-U78",
    "outputId": "f9db5d6d-b507-4259-e36b-8422d26227d6"
   },
   "outputs": [
    {
     "data": {
      "text/plain": [
       "['pay',\n",
       " 'your',\n",
       " 'rent',\n",
       " 'with',\n",
       " 'a',\n",
       " 'credit',\n",
       " 'or',\n",
       " 'debit',\n",
       " 'card',\n",
       " 'no',\n",
       " 'landlord',\n",
       " 'signup',\n",
       " 'require']"
      ]
     },
     "execution_count": 56,
     "metadata": {},
     "output_type": "execute_result"
    }
   ],
   "source": [
    "clean_train = lemmas(clean_train)\n",
    "clean_train[88106]['text']"
   ]
  },
  {
   "cell_type": "markdown",
   "id": "5aessqidT6CN",
   "metadata": {
    "id": "5aessqidT6CN"
   },
   "source": [
    "### Совпадение слов в постах и комментариях"
   ]
  },
  {
   "cell_type": "code",
   "execution_count": 70,
   "id": "pFBoSCdMU6qw",
   "metadata": {
    "executionInfo": {
     "elapsed": 42123,
     "status": "ok",
     "timestamp": 1679259254757,
     "user": {
      "displayName": "Юлия Кутняк",
      "userId": "08576535551541913047"
     },
     "user_tz": -180
    },
    "id": "pFBoSCdMU6qw"
   },
   "outputs": [],
   "source": [
    "unique_train = copy.deepcopy(clean_train)"
   ]
  },
  {
   "cell_type": "code",
   "execution_count": 71,
   "id": "3wn4eQ5IVNjQ",
   "metadata": {
    "executionInfo": {
     "elapsed": 311,
     "status": "ok",
     "timestamp": 1679259439968,
     "user": {
      "displayName": "Юлия Кутняк",
      "userId": "08576535551541913047"
     },
     "user_tz": -180
    },
    "id": "3wn4eQ5IVNjQ"
   },
   "outputs": [],
   "source": [
    "def unique_words(dataset):\n",
    "    for post in dataset:\n",
    "        post_unique = list(set(post['text']))\n",
    "        post['text'] = post_unique\n",
    "        comments = post['comments']\n",
    "        for comment in comments:\n",
    "            comment_unique = list(set(comment['text']))\n",
    "            comment['text'] = comment_unique\n",
    "    return dataset"
   ]
  },
  {
   "cell_type": "code",
   "execution_count": 72,
   "id": "ovjDrXbOVNch",
   "metadata": {
    "executionInfo": {
     "elapsed": 3662,
     "status": "ok",
     "timestamp": 1679259446658,
     "user": {
      "displayName": "Юлия Кутняк",
      "userId": "08576535551541913047"
     },
     "user_tz": -180
    },
    "id": "ovjDrXbOVNch"
   },
   "outputs": [],
   "source": [
    "unique_train = unique_words(unique_train)"
   ]
  },
  {
   "cell_type": "code",
   "execution_count": 75,
   "id": "QZV6rUfEXnSU",
   "metadata": {
    "colab": {
     "base_uri": "https://localhost:8080/",
     "height": 300
    },
    "executionInfo": {
     "elapsed": 6347,
     "status": "ok",
     "timestamp": 1679259558648,
     "user": {
      "displayName": "Юлия Кутняк",
      "userId": "08576535551541913047"
     },
     "user_tz": -180
    },
    "id": "QZV6rUfEXnSU",
    "outputId": "26f7f7d5-4d45-43fc-a40e-896925a04f64"
   },
   "outputs": [
    {
     "data": {
      "text/html": [
       "\n",
       "  <div id=\"df-5dda1f69-b646-4834-bdf2-c312d72cd07e\">\n",
       "    <div class=\"colab-df-container\">\n",
       "      <div>\n",
       "<style scoped>\n",
       "    .dataframe tbody tr th:only-of-type {\n",
       "        vertical-align: middle;\n",
       "    }\n",
       "\n",
       "    .dataframe tbody tr th {\n",
       "        vertical-align: top;\n",
       "    }\n",
       "\n",
       "    .dataframe thead th {\n",
       "        text-align: right;\n",
       "    }\n",
       "</style>\n",
       "<table border=\"1\" class=\"dataframe\">\n",
       "  <thead>\n",
       "    <tr style=\"text-align: right;\">\n",
       "      <th></th>\n",
       "      <th>post_num</th>\n",
       "      <th>comment_num</th>\n",
       "      <th>comment_score</th>\n",
       "      <th>symbols</th>\n",
       "      <th>words</th>\n",
       "      <th>url</th>\n",
       "      <th>count_url</th>\n",
       "      <th>email</th>\n",
       "      <th>num</th>\n",
       "      <th>count_num</th>\n",
       "      <th>noun</th>\n",
       "      <th>verb</th>\n",
       "      <th>adj</th>\n",
       "      <th>adv</th>\n",
       "      <th>matches</th>\n",
       "    </tr>\n",
       "  </thead>\n",
       "  <tbody>\n",
       "    <tr>\n",
       "      <th>25015</th>\n",
       "      <td>5004</td>\n",
       "      <td>1</td>\n",
       "      <td>0</td>\n",
       "      <td>4840</td>\n",
       "      <td>787</td>\n",
       "      <td>1</td>\n",
       "      <td>2</td>\n",
       "      <td>0</td>\n",
       "      <td>1</td>\n",
       "      <td>8</td>\n",
       "      <td>186</td>\n",
       "      <td>152</td>\n",
       "      <td>79</td>\n",
       "      <td>63</td>\n",
       "      <td>11</td>\n",
       "    </tr>\n",
       "    <tr>\n",
       "      <th>25016</th>\n",
       "      <td>5004</td>\n",
       "      <td>2</td>\n",
       "      <td>1</td>\n",
       "      <td>1561</td>\n",
       "      <td>267</td>\n",
       "      <td>0</td>\n",
       "      <td>0</td>\n",
       "      <td>0</td>\n",
       "      <td>1</td>\n",
       "      <td>5</td>\n",
       "      <td>56</td>\n",
       "      <td>54</td>\n",
       "      <td>31</td>\n",
       "      <td>26</td>\n",
       "      <td>7</td>\n",
       "    </tr>\n",
       "    <tr>\n",
       "      <th>25017</th>\n",
       "      <td>5004</td>\n",
       "      <td>3</td>\n",
       "      <td>2</td>\n",
       "      <td>845</td>\n",
       "      <td>147</td>\n",
       "      <td>0</td>\n",
       "      <td>0</td>\n",
       "      <td>0</td>\n",
       "      <td>0</td>\n",
       "      <td>0</td>\n",
       "      <td>35</td>\n",
       "      <td>28</td>\n",
       "      <td>16</td>\n",
       "      <td>14</td>\n",
       "      <td>7</td>\n",
       "    </tr>\n",
       "    <tr>\n",
       "      <th>25018</th>\n",
       "      <td>5004</td>\n",
       "      <td>4</td>\n",
       "      <td>3</td>\n",
       "      <td>732</td>\n",
       "      <td>118</td>\n",
       "      <td>0</td>\n",
       "      <td>0</td>\n",
       "      <td>0</td>\n",
       "      <td>1</td>\n",
       "      <td>1</td>\n",
       "      <td>31</td>\n",
       "      <td>25</td>\n",
       "      <td>20</td>\n",
       "      <td>7</td>\n",
       "      <td>5</td>\n",
       "    </tr>\n",
       "    <tr>\n",
       "      <th>25019</th>\n",
       "      <td>5004</td>\n",
       "      <td>5</td>\n",
       "      <td>4</td>\n",
       "      <td>516</td>\n",
       "      <td>95</td>\n",
       "      <td>0</td>\n",
       "      <td>0</td>\n",
       "      <td>0</td>\n",
       "      <td>0</td>\n",
       "      <td>0</td>\n",
       "      <td>22</td>\n",
       "      <td>23</td>\n",
       "      <td>10</td>\n",
       "      <td>8</td>\n",
       "      <td>3</td>\n",
       "    </tr>\n",
       "    <tr>\n",
       "      <th>25020</th>\n",
       "      <td>5005</td>\n",
       "      <td>1</td>\n",
       "      <td>0</td>\n",
       "      <td>814</td>\n",
       "      <td>151</td>\n",
       "      <td>0</td>\n",
       "      <td>0</td>\n",
       "      <td>0</td>\n",
       "      <td>1</td>\n",
       "      <td>2</td>\n",
       "      <td>35</td>\n",
       "      <td>30</td>\n",
       "      <td>8</td>\n",
       "      <td>11</td>\n",
       "      <td>5</td>\n",
       "    </tr>\n",
       "    <tr>\n",
       "      <th>25021</th>\n",
       "      <td>5005</td>\n",
       "      <td>2</td>\n",
       "      <td>1</td>\n",
       "      <td>1486</td>\n",
       "      <td>248</td>\n",
       "      <td>1</td>\n",
       "      <td>1</td>\n",
       "      <td>0</td>\n",
       "      <td>1</td>\n",
       "      <td>3</td>\n",
       "      <td>62</td>\n",
       "      <td>53</td>\n",
       "      <td>28</td>\n",
       "      <td>27</td>\n",
       "      <td>4</td>\n",
       "    </tr>\n",
       "    <tr>\n",
       "      <th>25022</th>\n",
       "      <td>5005</td>\n",
       "      <td>3</td>\n",
       "      <td>2</td>\n",
       "      <td>124</td>\n",
       "      <td>23</td>\n",
       "      <td>0</td>\n",
       "      <td>0</td>\n",
       "      <td>0</td>\n",
       "      <td>1</td>\n",
       "      <td>1</td>\n",
       "      <td>8</td>\n",
       "      <td>2</td>\n",
       "      <td>6</td>\n",
       "      <td>1</td>\n",
       "      <td>8</td>\n",
       "    </tr>\n",
       "  </tbody>\n",
       "</table>\n",
       "</div>\n",
       "      <button class=\"colab-df-convert\" onclick=\"convertToInteractive('df-5dda1f69-b646-4834-bdf2-c312d72cd07e')\"\n",
       "              title=\"Convert this dataframe to an interactive table.\"\n",
       "              style=\"display:none;\">\n",
       "        \n",
       "  <svg xmlns=\"http://www.w3.org/2000/svg\" height=\"24px\"viewBox=\"0 0 24 24\"\n",
       "       width=\"24px\">\n",
       "    <path d=\"M0 0h24v24H0V0z\" fill=\"none\"/>\n",
       "    <path d=\"M18.56 5.44l.94 2.06.94-2.06 2.06-.94-2.06-.94-.94-2.06-.94 2.06-2.06.94zm-11 1L8.5 8.5l.94-2.06 2.06-.94-2.06-.94L8.5 2.5l-.94 2.06-2.06.94zm10 10l.94 2.06.94-2.06 2.06-.94-2.06-.94-.94-2.06-.94 2.06-2.06.94z\"/><path d=\"M17.41 7.96l-1.37-1.37c-.4-.4-.92-.59-1.43-.59-.52 0-1.04.2-1.43.59L10.3 9.45l-7.72 7.72c-.78.78-.78 2.05 0 2.83L4 21.41c.39.39.9.59 1.41.59.51 0 1.02-.2 1.41-.59l7.78-7.78 2.81-2.81c.8-.78.8-2.07 0-2.86zM5.41 20L4 18.59l7.72-7.72 1.47 1.35L5.41 20z\"/>\n",
       "  </svg>\n",
       "      </button>\n",
       "      \n",
       "  <style>\n",
       "    .colab-df-container {\n",
       "      display:flex;\n",
       "      flex-wrap:wrap;\n",
       "      gap: 12px;\n",
       "    }\n",
       "\n",
       "    .colab-df-convert {\n",
       "      background-color: #E8F0FE;\n",
       "      border: none;\n",
       "      border-radius: 50%;\n",
       "      cursor: pointer;\n",
       "      display: none;\n",
       "      fill: #1967D2;\n",
       "      height: 32px;\n",
       "      padding: 0 0 0 0;\n",
       "      width: 32px;\n",
       "    }\n",
       "\n",
       "    .colab-df-convert:hover {\n",
       "      background-color: #E2EBFA;\n",
       "      box-shadow: 0px 1px 2px rgba(60, 64, 67, 0.3), 0px 1px 3px 1px rgba(60, 64, 67, 0.15);\n",
       "      fill: #174EA6;\n",
       "    }\n",
       "\n",
       "    [theme=dark] .colab-df-convert {\n",
       "      background-color: #3B4455;\n",
       "      fill: #D2E3FC;\n",
       "    }\n",
       "\n",
       "    [theme=dark] .colab-df-convert:hover {\n",
       "      background-color: #434B5C;\n",
       "      box-shadow: 0px 1px 3px 1px rgba(0, 0, 0, 0.15);\n",
       "      filter: drop-shadow(0px 1px 2px rgba(0, 0, 0, 0.3));\n",
       "      fill: #FFFFFF;\n",
       "    }\n",
       "  </style>\n",
       "\n",
       "      <script>\n",
       "        const buttonEl =\n",
       "          document.querySelector('#df-5dda1f69-b646-4834-bdf2-c312d72cd07e button.colab-df-convert');\n",
       "        buttonEl.style.display =\n",
       "          google.colab.kernel.accessAllowed ? 'block' : 'none';\n",
       "\n",
       "        async function convertToInteractive(key) {\n",
       "          const element = document.querySelector('#df-5dda1f69-b646-4834-bdf2-c312d72cd07e');\n",
       "          const dataTable =\n",
       "            await google.colab.kernel.invokeFunction('convertToInteractive',\n",
       "                                                     [key], {});\n",
       "          if (!dataTable) return;\n",
       "\n",
       "          const docLinkHtml = 'Like what you see? Visit the ' +\n",
       "            '<a target=\"_blank\" href=https://colab.research.google.com/notebooks/data_table.ipynb>data table notebook</a>'\n",
       "            + ' to learn more about interactive tables.';\n",
       "          element.innerHTML = '';\n",
       "          dataTable['output_type'] = 'display_data';\n",
       "          await google.colab.output.renderOutput(dataTable, element);\n",
       "          const docLink = document.createElement('div');\n",
       "          docLink.innerHTML = docLinkHtml;\n",
       "          element.appendChild(docLink);\n",
       "        }\n",
       "      </script>\n",
       "    </div>\n",
       "  </div>\n",
       "  "
      ],
      "text/plain": [
       "       post_num  comment_num  comment_score  symbols  words  url  count_url  \\\n",
       "25015      5004            1              0     4840    787    1          2   \n",
       "25016      5004            2              1     1561    267    0          0   \n",
       "25017      5004            3              2      845    147    0          0   \n",
       "25018      5004            4              3      732    118    0          0   \n",
       "25019      5004            5              4      516     95    0          0   \n",
       "25020      5005            1              0      814    151    0          0   \n",
       "25021      5005            2              1     1486    248    1          1   \n",
       "25022      5005            3              2      124     23    0          0   \n",
       "\n",
       "       email  num  count_num  noun  verb  adj  adv  matches  \n",
       "25015      0    1          8   186   152   79   63       11  \n",
       "25016      0    1          5    56    54   31   26        7  \n",
       "25017      0    0          0    35    28   16   14        7  \n",
       "25018      0    1          1    31    25   20    7        5  \n",
       "25019      0    0          0    22    23   10    8        3  \n",
       "25020      0    1          2    35    30    8   11        5  \n",
       "25021      0    1          3    62    53   28   27        4  \n",
       "25022      0    1          1     8     2    6    1        8  "
      ]
     },
     "execution_count": 75,
     "metadata": {},
     "output_type": "execute_result"
    }
   ],
   "source": [
    "matches = []\n",
    "\n",
    "for post in unique_train:\n",
    "    for comment in post['comments']:\n",
    "        counter = 0\n",
    "        for word in comment['text']:\n",
    "            if word in post['text']:\n",
    "                counter += 1\n",
    "        matches.append(counter)\n",
    "\n",
    "train_df['matches'] = matches\n",
    "train_df[25015:25023]"
   ]
  },
  {
   "cell_type": "markdown",
   "id": "A-F2iZMRh6iC",
   "metadata": {
    "id": "A-F2iZMRh6iC"
   },
   "source": [
    "# Исследование данных"
   ]
  },
  {
   "cell_type": "code",
   "execution_count": null,
   "id": "c9o_K5hTvuI0",
   "metadata": {
    "id": "c9o_K5hTvuI0"
   },
   "outputs": [],
   "source": [
    "sns.pairplot(data = train_df.loc[:, ['comment_score', 'symbols', 'words', 'url', 'count_url', 'email', 'num', 'count_num']], hue = 'comment_score')"
   ]
  },
  {
   "cell_type": "code",
   "execution_count": 76,
   "id": "U3V20RuZ4jGe",
   "metadata": {
    "colab": {
     "base_uri": "https://localhost:8080/",
     "height": 312
    },
    "executionInfo": {
     "elapsed": 11999,
     "status": "ok",
     "timestamp": 1679259587129,
     "user": {
      "displayName": "Юлия Кутняк",
      "userId": "08576535551541913047"
     },
     "user_tz": -180
    },
    "id": "U3V20RuZ4jGe",
    "outputId": "b9a39d42-b3b1-48f3-9a1f-4a59b4fa3d1d"
   },
   "outputs": [
    {
     "data": {
      "text/plain": [
       "Text(0.5, 1.0, 'Средняя длина комментариев (слова)')"
      ]
     },
     "execution_count": 76,
     "metadata": {},
     "output_type": "execute_result"
    },
    {
     "data": {
      "image/png": "[encoded data removed]",
      "text/plain": [
       "<Figure size 1080x288 with 2 Axes>"
      ]
     },
     "metadata": {
      "needs_background": "light"
     },
     "output_type": "display_data"
    }
   ],
   "source": [
    "plt.figure(figsize=(15, 4))\n",
    "\n",
    "plt.subplot(1, 2, 1)\n",
    "sns.barplot(data = train_df, x = 'comment_score', y = 'symbols', estimator ='mean', color='#0077ff')\n",
    "plt.xlabel('ранг комментария')\n",
    "plt.ylabel('количество символов')\n",
    "plt.title('Средняя длина комментариев (символы)')\n",
    "\n",
    "plt.subplot(1, 2, 2)\n",
    "sns.barplot(data = train_df, x = 'comment_score', y = 'words', estimator ='mean', color='#7f24bf')\n",
    "plt.xlabel('ранг комментария')\n",
    "plt.ylabel('количество слов')\n",
    "plt.title('Средняя длина комментариев (слова)')"
   ]
  },
  {
   "cell_type": "code",
   "execution_count": 79,
   "id": "2i8LQqH7wXIt",
   "metadata": {
    "colab": {
     "base_uri": "https://localhost:8080/",
     "height": 312
    },
    "executionInfo": {
     "elapsed": 4950,
     "status": "ok",
     "timestamp": 1679259642104,
     "user": {
      "displayName": "Юлия Кутняк",
      "userId": "08576535551541913047"
     },
     "user_tz": -180
    },
    "id": "2i8LQqH7wXIt",
    "outputId": "d2d6deeb-8383-4db3-8e11-ea67036d2e3f"
   },
   "outputs": [
    {
     "data": {
      "text/plain": [
       "Text(0, 0.5, 'количество ссылок')"
      ]
     },
     "execution_count": 79,
     "metadata": {},
     "output_type": "execute_result"
    },
    {
     "data": {
      "image/png": "[encoded data removed]",
      "text/plain": [
       "<Figure size 1080x288 with 2 Axes>"
      ]
     },
     "metadata": {
      "needs_background": "light"
     },
     "output_type": "display_data"
    }
   ],
   "source": [
    "plt.figure(figsize=(15, 4))\n",
    "\n",
    "plt.subplot(1, 2, 1)\n",
    "sns.barplot(data = train_df[train_df['url'] == 1], x = 'comment_score', y = 'url', estimator ='sum', color='#0077ff')\n",
    "plt.title('Количество комментариев с ссылками')\n",
    "plt.xlabel('ранг комментария')\n",
    "plt.ylabel('количество комментариев')\n",
    "\n",
    "plt.subplot(1, 2, 2)\n",
    "sns.barplot(data = train_df[train_df['url'] == 1], x = 'comment_score', y = 'count_url', estimator ='mean', color='#ff3986')\n",
    "plt.title('Среднее количество ссылок в комментариях')\n",
    "plt.xlabel('ранг комментария')\n",
    "plt.ylabel('количество ссылок')"
   ]
  },
  {
   "cell_type": "code",
   "execution_count": 80,
   "id": "L6-taW3T7HUR",
   "metadata": {
    "colab": {
     "base_uri": "https://localhost:8080/",
     "height": 312
    },
    "executionInfo": {
     "elapsed": 532,
     "status": "ok",
     "timestamp": 1679259644168,
     "user": {
      "displayName": "Юлия Кутняк",
      "userId": "08576535551541913047"
     },
     "user_tz": -180
    },
    "id": "L6-taW3T7HUR",
    "outputId": "7080ccbc-e083-482b-a323-f35a07d9671b"
   },
   "outputs": [
    {
     "data": {
      "text/plain": [
       "Text(0, 0.5, 'количество комментариев')"
      ]
     },
     "execution_count": 80,
     "metadata": {},
     "output_type": "execute_result"
    },
    {
     "data": {
      "image/png": "[encoded data removed]",
      "text/plain": [
       "<Figure size 504x288 with 1 Axes>"
      ]
     },
     "metadata": {
      "needs_background": "light"
     },
     "output_type": "display_data"
    }
   ],
   "source": [
    "plt.figure(figsize=(7, 4))\n",
    "\n",
    "sns.barplot(data = train_df[train_df['email'] == 1], x = 'comment_score', y = 'email', estimator ='sum', color='#0077ff')\n",
    "plt.title('Количество комментариев с адресами электронных почт')\n",
    "plt.xlabel('ранг комментария')\n",
    "plt.ylabel('количество комментариев')"
   ]
  },
  {
   "cell_type": "code",
   "execution_count": 81,
   "id": "_9wqOLu_7KAX",
   "metadata": {
    "colab": {
     "base_uri": "https://localhost:8080/",
     "height": 312
    },
    "executionInfo": {
     "elapsed": 8864,
     "status": "ok",
     "timestamp": 1679259656348,
     "user": {
      "displayName": "Юлия Кутняк",
      "userId": "08576535551541913047"
     },
     "user_tz": -180
    },
    "id": "_9wqOLu_7KAX",
    "outputId": "98462ffe-6454-4c6f-9501-510a0e0c6474"
   },
   "outputs": [
    {
     "data": {
      "text/plain": [
       "Text(0, 0.5, 'количество чисел')"
      ]
     },
     "execution_count": 81,
     "metadata": {},
     "output_type": "execute_result"
    },
    {
     "data": {
      "image/png": "[encoded data removed]",
      "text/plain": [
       "<Figure size 1080x288 with 2 Axes>"
      ]
     },
     "metadata": {
      "needs_background": "light"
     },
     "output_type": "display_data"
    }
   ],
   "source": [
    "plt.figure(figsize=(15, 4))\n",
    "\n",
    "plt.subplot(1, 2, 1)\n",
    "sns.barplot(data = train_df[train_df['num'] == 1], x = 'comment_score', y = 'num', estimator ='sum', color='#0077ff')\n",
    "plt.title('Количество комментариев с числами')\n",
    "plt.xlabel('ранг комментария')\n",
    "plt.ylabel('количество комментариев')\n",
    "\n",
    "plt.subplot(1, 2, 2)\n",
    "sns.barplot(data = train_df[train_df['num'] == 1], x = 'comment_score', y = 'count_num', estimator ='mean', color='#ff3986')\n",
    "plt.title('Среднее количество чисел в комментариях')\n",
    "plt.xlabel('ранг комментария')\n",
    "plt.ylabel('количество чисел')"
   ]
  },
  {
   "cell_type": "code",
   "execution_count": 82,
   "id": "0e7hjQc5YSaR",
   "metadata": {
    "colab": {
     "base_uri": "https://localhost:8080/",
     "height": 638
    },
    "executionInfo": {
     "elapsed": 26439,
     "status": "ok",
     "timestamp": 1679259686771,
     "user": {
      "displayName": "Юлия Кутняк",
      "userId": "08576535551541913047"
     },
     "user_tz": -180
    },
    "id": "0e7hjQc5YSaR",
    "outputId": "14397760-add9-4465-87b8-1dbfcada7c82"
   },
   "outputs": [
    {
     "data": {
      "text/plain": [
       "Text(0, 0.5, 'количество слов')"
      ]
     },
     "execution_count": 82,
     "metadata": {},
     "output_type": "execute_result"
    },
    {
     "data": {
      "image/png": "[encoded data removed]",
      "text/plain": [
       "<Figure size 1080x720 with 4 Axes>"
      ]
     },
     "metadata": {
      "needs_background": "light"
     },
     "output_type": "display_data"
    }
   ],
   "source": [
    "plt.figure(figsize=(15, 10))\n",
    "\n",
    "plt.subplot(2, 2, 1)\n",
    "sns.barplot(data = train_df, x = 'comment_score', y = 'noun', estimator ='mean', color='#0077ff')\n",
    "plt.title('Среднее количество существительных в комментариях')\n",
    "plt.xlabel('ранг комментария')\n",
    "plt.ylabel('количество слов')\n",
    "\n",
    "plt.subplot(2, 2, 2)\n",
    "sns.barplot(data = train_df, x = 'comment_score', y = 'verb', estimator ='mean', color='#ff3986')\n",
    "plt.title('Среднее количество глаголов в комментариях')\n",
    "plt.xlabel('ранг комментария')\n",
    "plt.ylabel('количество слов')\n",
    "\n",
    "plt.subplot(2, 2, 3)\n",
    "sns.barplot(data = train_df, x = 'comment_score', y = 'adj', estimator ='mean', color='#7f24bf')\n",
    "plt.title('Среднее количество прилагательных в комментариях')\n",
    "plt.xlabel('ранг комментария')\n",
    "plt.ylabel('количество слов')\n",
    "\n",
    "plt.subplot(2, 2, 4)\n",
    "sns.barplot(data = train_df, x = 'comment_score', y = 'adv', estimator ='mean', color='#00eaff')\n",
    "plt.title('Среднее количество наречий в комментариях')\n",
    "plt.xlabel('ранг комментария')\n",
    "plt.ylabel('количество слов')"
   ]
  },
  {
   "cell_type": "code",
   "execution_count": 86,
   "id": "wE8W0UhWc71_",
   "metadata": {
    "colab": {
     "base_uri": "https://localhost:8080/",
     "height": 312
    },
    "executionInfo": {
     "elapsed": 5733,
     "status": "ok",
     "timestamp": 1679259869302,
     "user": {
      "displayName": "Юлия Кутняк",
      "userId": "08576535551541913047"
     },
     "user_tz": -180
    },
    "id": "wE8W0UhWc71_",
    "outputId": "7469a195-f659-41e6-aefb-b412b81bf9f4"
   },
   "outputs": [
    {
     "data": {
      "text/plain": [
       "Text(0, 0.5, 'количество совпадающих слов')"
      ]
     },
     "execution_count": 86,
     "metadata": {},
     "output_type": "execute_result"
    },
    {
     "data": {
      "image/png": "[encoded data removed]",
      "text/plain": [
       "<Figure size 504x288 with 1 Axes>"
      ]
     },
     "metadata": {
      "needs_background": "light"
     },
     "output_type": "display_data"
    }
   ],
   "source": [
    "plt.figure(figsize=(7, 4))\n",
    "\n",
    "sns.barplot(data = train_df, x = 'comment_score', y = 'matches', estimator ='mean', color='#0077ff')\n",
    "plt.title('Среднее количество совпадений слов в комментариях и постах')\n",
    "plt.xlabel('ранг комментария')\n",
    "plt.ylabel('количество совпадающих слов')"
   ]
  }
 ],
 "metadata": {
  "colab": {
   "collapsed_sections": [
    "sG16DwZfuVwd",
    "IM5iY11zkH-s",
    "163462d9",
    "1bab4d55",
    "00o93Fv1806j",
    "iwJhp6tfL6Z4"
   ],
   "provenance": []
  },
  "kernelspec": {
   "display_name": "Python 3 (ipykernel)",
   "language": "python",
   "name": "python3"
  },
  "language_info": {
   "codemirror_mode": {
    "name": "ipython",
    "version": 3
   },
   "file_extension": ".py",
   "mimetype": "text/x-python",
   "name": "python",
   "nbconvert_exporter": "python",
   "pygments_lexer": "ipython3",
   "version": "3.10.6"
  }
 },
 "nbformat": 4,
 "nbformat_minor": 5
}
